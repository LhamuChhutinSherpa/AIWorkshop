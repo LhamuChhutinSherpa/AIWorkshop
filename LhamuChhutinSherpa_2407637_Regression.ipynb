{
  "nbformat": 4,
  "nbformat_minor": 0,
  "metadata": {
    "colab": {
      "provenance": []
    },
    "kernelspec": {
      "name": "python3",
      "display_name": "Python 3"
    },
    "language_info": {
      "name": "python"
    }
  },
  "cells": [
    {
      "cell_type": "code",
      "execution_count": 63,
      "metadata": {
        "id": "zNMScvr-i-Vq"
      },
      "outputs": [],
      "source": [
        "import matplotlib.pyplot as plt\n",
        "import seaborn as sns\n",
        "import pandas as pd\n",
        "import numpy as np\n",
        "from sklearn.model_selection import train_test_split\n",
        "from sklearn.tree import DecisionTreeClassifier\n",
        "from sklearn.linear_model import LinearRegression, LogisticRegression\n",
        "from sklearn.ensemble import RandomForestClassifier\n",
        "from sklearn.metrics import accuracy_score, classification_report, confusion_matrix\n",
        "from sklearn.model_selection import GridSearchCV\n",
        "from sklearn.feature_selection import SelectKBest\n",
        "from sklearn.preprocessing import StandardScaler\n",
        "from sklearn.feature_selection import chi2, mutual_info_classif\n",
        "from sklearn.svm import SVR\n",
        "from sklearn.metrics import mean_squared_error, r2_score\n",
        "from sklearn.feature_selection import SequentialFeatureSelector\n",
        "from sklearn import metrics\n",
        "from sklearn.feature_selection import RFE\n",
        "from sklearn.metrics import confusion_matrix\n",
        "from sklearn.ensemble import RandomForestRegressor\n",
        "from sklearn.metrics import mean_absolute_error, mean_squared_error, r2_score\n",
        "from sklearn.model_selection import RandomizedSearchCV"
      ]
    },
    {
      "cell_type": "markdown",
      "source": [
        "Exploratory Data Analysis (EDA):"
      ],
      "metadata": {
        "id": "wcAyjozklXZw"
      }
    },
    {
      "cell_type": "code",
      "source": [
        "# Load dataset\n",
        "df = pd.read_csv(\"/content/drive/MyDrive/AI/breast_cancer.csv\")"
      ],
      "metadata": {
        "id": "_WeWZxzCkfuz"
      },
      "execution_count": null,
      "outputs": []
    },
    {
      "cell_type": "code",
      "source": [
        "#preview the dataset\n",
        "print(\"Dataset Preview:\")\n",
        "print(df.head())\n",
        "\n",
        "#Diplay basix information\n",
        "print(\"\\nDataset Overview:\\n\")\n",
        "print(df.info())\n",
        "\n",
        "# Display basic statistics of the dataset\n",
        "print(\"\\nSummary Statistics:\\n\")\n",
        "print(df.describe())"
      ],
      "metadata": {
        "colab": {
          "base_uri": "https://localhost:8080/"
        },
        "id": "8wjFspT75J1u",
        "outputId": "dfda12dc-65fc-4073-ed46-4b8f7ef0a9f8"
      },
      "execution_count": null,
      "outputs": [
        {
          "output_type": "stream",
          "name": "stdout",
          "text": [
            "Dataset Preview:\n",
            "   Clump Thickness  Uniformity of Cell Size  Uniformity of Cell Shape  \\\n",
            "0                5                        1                         1   \n",
            "1                5                        4                         4   \n",
            "2                3                        1                         1   \n",
            "3                6                        8                         8   \n",
            "4                4                        1                         1   \n",
            "\n",
            "   Marginal Adhesion  Single Epithelial Cell Size  Bare Nuclei  \\\n",
            "0                  1                            2            1   \n",
            "1                  5                            7           10   \n",
            "2                  1                            2            2   \n",
            "3                  1                            3            4   \n",
            "4                  3                            2            1   \n",
            "\n",
            "   Bland Chromatin  Normal Nucleoli  Mitoses  Class  \n",
            "0                3                1        1      2  \n",
            "1                3                2        1      2  \n",
            "2                3                1        1      2  \n",
            "3                3                7        1      2  \n",
            "4                3                1        1      2  \n",
            "\n",
            "Dataset Overview:\n",
            "\n",
            "<class 'pandas.core.frame.DataFrame'>\n",
            "RangeIndex: 683 entries, 0 to 682\n",
            "Data columns (total 10 columns):\n",
            " #   Column                       Non-Null Count  Dtype\n",
            "---  ------                       --------------  -----\n",
            " 0   Clump Thickness              683 non-null    int64\n",
            " 1   Uniformity of Cell Size      683 non-null    int64\n",
            " 2   Uniformity of Cell Shape     683 non-null    int64\n",
            " 3   Marginal Adhesion            683 non-null    int64\n",
            " 4   Single Epithelial Cell Size  683 non-null    int64\n",
            " 5   Bare Nuclei                  683 non-null    int64\n",
            " 6   Bland Chromatin              683 non-null    int64\n",
            " 7   Normal Nucleoli              683 non-null    int64\n",
            " 8   Mitoses                      683 non-null    int64\n",
            " 9   Class                        683 non-null    int64\n",
            "dtypes: int64(10)\n",
            "memory usage: 53.5 KB\n",
            "None\n",
            "\n",
            "Summary Statistics:\n",
            "\n",
            "       Clump Thickness  Uniformity of Cell Size  Uniformity of Cell Shape  \\\n",
            "count       683.000000               683.000000                683.000000   \n",
            "mean          4.442167                 3.150805                  3.215227   \n",
            "std           2.820761                 3.065145                  2.988581   \n",
            "min           1.000000                 1.000000                  1.000000   \n",
            "25%           2.000000                 1.000000                  1.000000   \n",
            "50%           4.000000                 1.000000                  1.000000   \n",
            "75%           6.000000                 5.000000                  5.000000   \n",
            "max          10.000000                10.000000                 10.000000   \n",
            "\n",
            "       Marginal Adhesion  Single Epithelial Cell Size  Bare Nuclei  \\\n",
            "count         683.000000                   683.000000   683.000000   \n",
            "mean            2.830161                     3.234261     3.544656   \n",
            "std             2.864562                     2.223085     3.643857   \n",
            "min             1.000000                     1.000000     1.000000   \n",
            "25%             1.000000                     2.000000     1.000000   \n",
            "50%             1.000000                     2.000000     1.000000   \n",
            "75%             4.000000                     4.000000     6.000000   \n",
            "max            10.000000                    10.000000    10.000000   \n",
            "\n",
            "       Bland Chromatin  Normal Nucleoli     Mitoses       Class  \n",
            "count       683.000000       683.000000  683.000000  683.000000  \n",
            "mean          3.445095         2.869693    1.603221    2.699854  \n",
            "std           2.449697         3.052666    1.732674    0.954592  \n",
            "min           1.000000         1.000000    1.000000    2.000000  \n",
            "25%           2.000000         1.000000    1.000000    2.000000  \n",
            "50%           3.000000         1.000000    1.000000    2.000000  \n",
            "75%           5.000000         4.000000    1.000000    4.000000  \n",
            "max          10.000000        10.000000   10.000000    4.000000  \n"
          ]
        }
      ]
    },
    {
      "cell_type": "code",
      "source": [
        "from google.colab import drive\n",
        "drive.mount('/content/drive')"
      ],
      "metadata": {
        "colab": {
          "base_uri": "https://localhost:8080/"
        },
        "id": "BHgdhKuo0CWS",
        "outputId": "3f5b34ee-1011-4772-b182-420f5d8d3e4c"
      },
      "execution_count": null,
      "outputs": [
        {
          "output_type": "stream",
          "name": "stdout",
          "text": [
            "Drive already mounted at /content/drive; to attempt to forcibly remount, call drive.mount(\"/content/drive\", force_remount=True).\n"
          ]
        }
      ]
    },
    {
      "cell_type": "code",
      "source": [
        "# Check for missing values\n",
        "print(\"\\nMissing Values:\")\n",
        "print(df.isnull().sum())\n",
        "\n",
        "# Fill or drop missing values (example: using mean for numerical columns)\n",
        "for column in df.select_dtypes(include=np.number).columns:\n",
        "    if df[column].isnull().sum() > 0:\n",
        "        df[column].fillna(df[column].mean(), inplace=True)\n",
        "\n",
        "# Fill or drop missing categorical values (example: using mode)\n",
        "for column in df.select_dtypes(include=['object']).columns:\n",
        "    if df[column].isnull().sum() > 0:\n",
        "        df[column].fillna(df[column].mode()[0], inplace=True)\n",
        "\n",
        "print(\"\\nMissing Values After Handling:\")\n",
        "print(df.isnull().sum())"
      ],
      "metadata": {
        "colab": {
          "base_uri": "https://localhost:8080/"
        },
        "id": "U_nnUwdd0Mvi",
        "outputId": "ad233ce6-47d6-45b8-c20b-bf4ab39236dd"
      },
      "execution_count": null,
      "outputs": [
        {
          "output_type": "stream",
          "name": "stdout",
          "text": [
            "\n",
            "Missing Values:\n",
            "Clump Thickness                0\n",
            "Uniformity of Cell Size        0\n",
            "Uniformity of Cell Shape       0\n",
            "Marginal Adhesion              0\n",
            "Single Epithelial Cell Size    0\n",
            "Bare Nuclei                    0\n",
            "Bland Chromatin                0\n",
            "Normal Nucleoli                0\n",
            "Mitoses                        0\n",
            "Class                          0\n",
            "dtype: int64\n",
            "\n",
            "Missing Values After Handling:\n",
            "Clump Thickness                0\n",
            "Uniformity of Cell Size        0\n",
            "Uniformity of Cell Shape       0\n",
            "Marginal Adhesion              0\n",
            "Single Epithelial Cell Size    0\n",
            "Bare Nuclei                    0\n",
            "Bland Chromatin                0\n",
            "Normal Nucleoli                0\n",
            "Mitoses                        0\n",
            "Class                          0\n",
            "dtype: int64\n"
          ]
        }
      ]
    },
    {
      "cell_type": "code",
      "source": [
        "# Remove duplicates if any\n",
        "df.drop_duplicates(inplace=True)\n",
        "\n",
        "print(\"\\nData after basic cleaning:\")\n",
        "print(df.head())"
      ],
      "metadata": {
        "colab": {
          "base_uri": "https://localhost:8080/"
        },
        "id": "Q5polNMo0jgF",
        "outputId": "f0a11b8b-2a74-4637-8e5e-0de1755b3ddb"
      },
      "execution_count": 34,
      "outputs": [
        {
          "output_type": "stream",
          "name": "stdout",
          "text": [
            "\n",
            "Data after basic cleaning:\n",
            "   clump_thickness  uniformity_of_cell_size  uniformity_of_cell_shape  \\\n",
            "0                5                        1                         1   \n",
            "1                5                        4                         4   \n",
            "2                3                        1                         1   \n",
            "3                6                        8                         8   \n",
            "4                4                        1                         1   \n",
            "\n",
            "   marginal_adhesion  single_epithelial_cell_size  bare_nuclei  \\\n",
            "0                  1                            2            1   \n",
            "1                  5                            7           10   \n",
            "2                  1                            2            2   \n",
            "3                  1                            3            4   \n",
            "4                  3                            2            1   \n",
            "\n",
            "   bland_chromatin  normal_nucleoli  mitoses  class  \n",
            "0                3                1        1      2  \n",
            "1                3                2        1      2  \n",
            "2                3                1        1      2  \n",
            "3                3                7        1      2  \n",
            "4                3                1        1      2  \n"
          ]
        }
      ]
    },
    {
      "cell_type": "code",
      "source": [
        "df.dtypes"
      ],
      "metadata": {
        "colab": {
          "base_uri": "https://localhost:8080/",
          "height": 397
        },
        "id": "99GjNRorNbiN",
        "outputId": "a2fbf3f5-5d99-416f-f9c9-3a149cf496c7"
      },
      "execution_count": 42,
      "outputs": [
        {
          "output_type": "execute_result",
          "data": {
            "text/plain": [
              "clump_thickness                int64\n",
              "uniformity_of_cell_size        int64\n",
              "uniformity_of_cell_shape       int64\n",
              "marginal_adhesion              int64\n",
              "single_epithelial_cell_size    int64\n",
              "bare_nuclei                    int64\n",
              "bland_chromatin                int64\n",
              "normal_nucleoli                int64\n",
              "mitoses                        int64\n",
              "class                          int64\n",
              "dtype: object"
            ],
            "text/html": [
              "<div>\n",
              "<style scoped>\n",
              "    .dataframe tbody tr th:only-of-type {\n",
              "        vertical-align: middle;\n",
              "    }\n",
              "\n",
              "    .dataframe tbody tr th {\n",
              "        vertical-align: top;\n",
              "    }\n",
              "\n",
              "    .dataframe thead th {\n",
              "        text-align: right;\n",
              "    }\n",
              "</style>\n",
              "<table border=\"1\" class=\"dataframe\">\n",
              "  <thead>\n",
              "    <tr style=\"text-align: right;\">\n",
              "      <th></th>\n",
              "      <th>0</th>\n",
              "    </tr>\n",
              "  </thead>\n",
              "  <tbody>\n",
              "    <tr>\n",
              "      <th>clump_thickness</th>\n",
              "      <td>int64</td>\n",
              "    </tr>\n",
              "    <tr>\n",
              "      <th>uniformity_of_cell_size</th>\n",
              "      <td>int64</td>\n",
              "    </tr>\n",
              "    <tr>\n",
              "      <th>uniformity_of_cell_shape</th>\n",
              "      <td>int64</td>\n",
              "    </tr>\n",
              "    <tr>\n",
              "      <th>marginal_adhesion</th>\n",
              "      <td>int64</td>\n",
              "    </tr>\n",
              "    <tr>\n",
              "      <th>single_epithelial_cell_size</th>\n",
              "      <td>int64</td>\n",
              "    </tr>\n",
              "    <tr>\n",
              "      <th>bare_nuclei</th>\n",
              "      <td>int64</td>\n",
              "    </tr>\n",
              "    <tr>\n",
              "      <th>bland_chromatin</th>\n",
              "      <td>int64</td>\n",
              "    </tr>\n",
              "    <tr>\n",
              "      <th>normal_nucleoli</th>\n",
              "      <td>int64</td>\n",
              "    </tr>\n",
              "    <tr>\n",
              "      <th>mitoses</th>\n",
              "      <td>int64</td>\n",
              "    </tr>\n",
              "    <tr>\n",
              "      <th>class</th>\n",
              "      <td>int64</td>\n",
              "    </tr>\n",
              "  </tbody>\n",
              "</table>\n",
              "</div><br><label><b>dtype:</b> object</label>"
            ]
          },
          "metadata": {},
          "execution_count": 42
        }
      ]
    },
    {
      "cell_type": "code",
      "source": [
        "df.var() #using var() function to find the variance"
      ],
      "metadata": {
        "colab": {
          "base_uri": "https://localhost:8080/",
          "height": 397
        },
        "id": "bbNTvSPyqsvB",
        "outputId": "480b7b35-dfb8-4b2c-a6bc-57aed5e17571"
      },
      "execution_count": null,
      "outputs": [
        {
          "output_type": "execute_result",
          "data": {
            "text/plain": [
              "Clump Thickness                 7.956694\n",
              "Uniformity of Cell Size         9.395113\n",
              "Uniformity of Cell Shape        8.931615\n",
              "Marginal Adhesion               8.205717\n",
              "Single Epithelial Cell Size     4.942109\n",
              "Bare Nuclei                    13.277695\n",
              "Bland Chromatin                 6.001013\n",
              "Normal Nucleoli                 9.318772\n",
              "Mitoses                         3.002160\n",
              "Class                           0.911246\n",
              "dtype: float64"
            ],
            "text/html": [
              "<div>\n",
              "<style scoped>\n",
              "    .dataframe tbody tr th:only-of-type {\n",
              "        vertical-align: middle;\n",
              "    }\n",
              "\n",
              "    .dataframe tbody tr th {\n",
              "        vertical-align: top;\n",
              "    }\n",
              "\n",
              "    .dataframe thead th {\n",
              "        text-align: right;\n",
              "    }\n",
              "</style>\n",
              "<table border=\"1\" class=\"dataframe\">\n",
              "  <thead>\n",
              "    <tr style=\"text-align: right;\">\n",
              "      <th></th>\n",
              "      <th>0</th>\n",
              "    </tr>\n",
              "  </thead>\n",
              "  <tbody>\n",
              "    <tr>\n",
              "      <th>Clump Thickness</th>\n",
              "      <td>7.956694</td>\n",
              "    </tr>\n",
              "    <tr>\n",
              "      <th>Uniformity of Cell Size</th>\n",
              "      <td>9.395113</td>\n",
              "    </tr>\n",
              "    <tr>\n",
              "      <th>Uniformity of Cell Shape</th>\n",
              "      <td>8.931615</td>\n",
              "    </tr>\n",
              "    <tr>\n",
              "      <th>Marginal Adhesion</th>\n",
              "      <td>8.205717</td>\n",
              "    </tr>\n",
              "    <tr>\n",
              "      <th>Single Epithelial Cell Size</th>\n",
              "      <td>4.942109</td>\n",
              "    </tr>\n",
              "    <tr>\n",
              "      <th>Bare Nuclei</th>\n",
              "      <td>13.277695</td>\n",
              "    </tr>\n",
              "    <tr>\n",
              "      <th>Bland Chromatin</th>\n",
              "      <td>6.001013</td>\n",
              "    </tr>\n",
              "    <tr>\n",
              "      <th>Normal Nucleoli</th>\n",
              "      <td>9.318772</td>\n",
              "    </tr>\n",
              "    <tr>\n",
              "      <th>Mitoses</th>\n",
              "      <td>3.002160</td>\n",
              "    </tr>\n",
              "    <tr>\n",
              "      <th>Class</th>\n",
              "      <td>0.911246</td>\n",
              "    </tr>\n",
              "  </tbody>\n",
              "</table>\n",
              "</div><br><label><b>dtype:</b> float64</label>"
            ]
          },
          "metadata": {},
          "execution_count": 24
        }
      ]
    },
    {
      "cell_type": "code",
      "source": [
        "col = df.columns.to_list()\n",
        "col"
      ],
      "metadata": {
        "colab": {
          "base_uri": "https://localhost:8080/"
        },
        "id": "bZv34X6ksygB",
        "outputId": "650e6fae-6722-44cf-8967-5c4e43efc5a9"
      },
      "execution_count": null,
      "outputs": [
        {
          "output_type": "execute_result",
          "data": {
            "text/plain": [
              "['Clump Thickness',\n",
              " 'Uniformity of Cell Size',\n",
              " 'Uniformity of Cell Shape',\n",
              " 'Marginal Adhesion',\n",
              " 'Single Epithelial Cell Size',\n",
              " 'Bare Nuclei',\n",
              " 'Bland Chromatin',\n",
              " 'Normal Nucleoli',\n",
              " 'Mitoses',\n",
              " 'Class']"
            ]
          },
          "metadata": {},
          "execution_count": 28
        }
      ]
    },
    {
      "cell_type": "code",
      "source": [
        "for c in col[:7]:\n",
        "  print(f\"{c} has values {list(df[c].unique())}\")\n"
      ],
      "metadata": {
        "colab": {
          "base_uri": "https://localhost:8080/"
        },
        "id": "nPPfeuL-tZpm",
        "outputId": "ba4403ba-5350-478b-dc1e-8461fd1ec955"
      },
      "execution_count": null,
      "outputs": [
        {
          "output_type": "stream",
          "name": "stdout",
          "text": [
            "Clump Thickness has values [5.0, 3.0, 6.0, 4.0, 8.0, 1.0, 2.0, 7.0, 10.0, 9.0]\n",
            "Uniformity of Cell Size has values [1.0, 4.0, 8.0, 10.0, 2.0, 3.0, 7.0, 5.0, 6.0, 9.0]\n",
            "Uniformity of Cell Shape has values [1.0, 4.0, 8.0, 10.0, 2.0, 3.0, 5.0, 6.0, 7.0, 9.0]\n",
            "Marginal Adhesion has values [1.0, 5.0, 3.0, 8.0, 10.0, 4.0, 6.0, 2.0, 9.0, 7.0]\n",
            "Single Epithelial Cell Size has values [2.0, 7.0, 3.0, 1.0, 6.0, 4.0, 5.0, 8.0, 10.0, 9.0]\n",
            "Bare Nuclei has values [1.0, 10.0, 2.0, 4.0, 3.0, 9.0, 7.0, 5.0, 8.0, 6.0]\n",
            "Bland Chromatin has values [3.0, 9.0, 1.0, 2.0, 4.0, 5.0, 7.0, 8.0, 6.0, 10.0]\n"
          ]
        }
      ]
    },
    {
      "cell_type": "code",
      "source": [
        "# Distribution of Target Variable\n",
        "sns.histplot(df[\"clump_thickness\"], bins=10, kde=True)\n",
        "plt.title(\"Distribution of Clump Thickness\")\n",
        "plt.show()"
      ],
      "metadata": {
        "colab": {
          "base_uri": "https://localhost:8080/",
          "height": 480
        },
        "id": "PQlDY9mOMxR9",
        "outputId": "1f104c34-d085-4e2c-82ad-465eeb0e68d6"
      },
      "execution_count": 36,
      "outputs": [
        {
          "output_type": "display_data",
          "data": {
            "text/plain": [
              "<Figure size 640x480 with 1 Axes>"
            ],
            "image/png": "[encoded data removed]"
          },
          "metadata": {}
        }
      ]
    },
    {
      "cell_type": "code",
      "source": [
        "cnt_dt = df['Bare Nuclei']\n",
        "plt.figure(figsize=(6, 4))\n",
        "sns.countplot(x=cnt_dt)\n",
        "plt.show()"
      ],
      "metadata": {
        "colab": {
          "base_uri": "https://localhost:8080/",
          "height": 388
        },
        "id": "jq1G1KWSy6a_",
        "outputId": "68687425-1822-4a56-d3a5-5064230a0b93"
      },
      "execution_count": null,
      "outputs": [
        {
          "output_type": "display_data",
          "data": {
            "text/plain": [
              "<Figure size 600x400 with 1 Axes>"
            ],
            "image/png": "[encoded data removed]"
          },
          "metadata": {}
        }
      ]
    },
    {
      "cell_type": "code",
      "source": [
        "#create a heatmap\n",
        "plt.figure(figsize=(10,8))\n",
        "sns.heatmap(df.corr(), annot = True, cmap='coolwarm', fmt='.2f', linewidths=0.5)\n",
        "#Display the Heatmap\n",
        "plt.title('Feature Correlation Heatmap')\n",
        "plt.show()"
      ],
      "metadata": {
        "colab": {
          "base_uri": "https://localhost:8080/",
          "height": 682
        },
        "id": "ucHGBxzuBUGV",
        "outputId": "70028574-2db0-45d2-840f-91c921a3ddba"
      },
      "execution_count": null,
      "outputs": [
        {
          "output_type": "display_data",
          "data": {
            "text/plain": [
              "<Figure size 1000x800 with 2 Axes>"
            ],
            "image/png": "[encoded data removed]"
          },
          "metadata": {}
        }
      ]
    },
    {
      "cell_type": "markdown",
      "source": [
        "#DataVisualization"
      ],
      "metadata": {
        "id": "uuURVpOCyewf"
      }
    },
    {
      "cell_type": "code",
      "source": [
        "df"
      ],
      "metadata": {
        "colab": {
          "base_uri": "https://localhost:8080/",
          "height": 478
        },
        "id": "B794LEGrydJW",
        "outputId": "9ccfe58a-82ea-4c5c-94ff-4e54933ea9e1"
      },
      "execution_count": null,
      "outputs": [
        {
          "output_type": "execute_result",
          "data": {
            "text/plain": [
              "     Clump Thickness  Uniformity of Cell Size  Uniformity of Cell Shape  \\\n",
              "0                5.0                      1.0                       1.0   \n",
              "1                5.0                      4.0                       4.0   \n",
              "2                3.0                      1.0                       1.0   \n",
              "3                6.0                      8.0                       8.0   \n",
              "4                4.0                      1.0                       1.0   \n",
              "..               ...                      ...                       ...   \n",
              "678              3.0                      1.0                       1.0   \n",
              "679              2.0                      1.0                       1.0   \n",
              "680              5.0                     10.0                      10.0   \n",
              "681              4.0                      8.0                       6.0   \n",
              "682              4.0                      8.0                       8.0   \n",
              "\n",
              "     Marginal Adhesion  Single Epithelial Cell Size  Bare Nuclei  \\\n",
              "0                  1.0                          2.0          1.0   \n",
              "1                  5.0                          7.0         10.0   \n",
              "2                  1.0                          2.0          2.0   \n",
              "3                  1.0                          3.0          4.0   \n",
              "4                  3.0                          2.0          1.0   \n",
              "..                 ...                          ...          ...   \n",
              "678                1.0                          3.0          2.0   \n",
              "679                1.0                          2.0          1.0   \n",
              "680                3.0                          7.0          3.0   \n",
              "681                4.0                          3.0          4.0   \n",
              "682                5.0                          4.0          5.0   \n",
              "\n",
              "     Bland Chromatin  Normal Nucleoli  Mitoses  Class  \n",
              "0                3.0                1        1      2  \n",
              "1                3.0                2        1      2  \n",
              "2                3.0                1        1      2  \n",
              "3                3.0                7        1      2  \n",
              "4                3.0                1        1      2  \n",
              "..               ...              ...      ...    ...  \n",
              "678              1.0                1        1      2  \n",
              "679              1.0                1        1      2  \n",
              "680              8.0               10        2      4  \n",
              "681             10.0                6        1      4  \n",
              "682             10.0                4        1      4  \n",
              "\n",
              "[683 rows x 10 columns]"
            ],
            "text/html": [
              "\n",
              "  <div id=\"df-891152a6-532f-42c8-b0ed-4ba5992a5450\" class=\"colab-df-container\">\n",
              "    <div>\n",
              "<style scoped>\n",
              "    .dataframe tbody tr th:only-of-type {\n",
              "        vertical-align: middle;\n",
              "    }\n",
              "\n",
              "    .dataframe tbody tr th {\n",
              "        vertical-align: top;\n",
              "    }\n",
              "\n",
              "    .dataframe thead th {\n",
              "        text-align: right;\n",
              "    }\n",
              "</style>\n",
              "<table border=\"1\" class=\"dataframe\">\n",
              "  <thead>\n",
              "    <tr style=\"text-align: right;\">\n",
              "      <th></th>\n",
              "      <th>Clump Thickness</th>\n",
              "      <th>Uniformity of Cell Size</th>\n",
              "      <th>Uniformity of Cell Shape</th>\n",
              "      <th>Marginal Adhesion</th>\n",
              "      <th>Single Epithelial Cell Size</th>\n",
              "      <th>Bare Nuclei</th>\n",
              "      <th>Bland Chromatin</th>\n",
              "      <th>Normal Nucleoli</th>\n",
              "      <th>Mitoses</th>\n",
              "      <th>Class</th>\n",
              "    </tr>\n",
              "  </thead>\n",
              "  <tbody>\n",
              "    <tr>\n",
              "      <th>0</th>\n",
              "      <td>5.0</td>\n",
              "      <td>1.0</td>\n",
              "      <td>1.0</td>\n",
              "      <td>1.0</td>\n",
              "      <td>2.0</td>\n",
              "      <td>1.0</td>\n",
              "      <td>3.0</td>\n",
              "      <td>1</td>\n",
              "      <td>1</td>\n",
              "      <td>2</td>\n",
              "    </tr>\n",
              "    <tr>\n",
              "      <th>1</th>\n",
              "      <td>5.0</td>\n",
              "      <td>4.0</td>\n",
              "      <td>4.0</td>\n",
              "      <td>5.0</td>\n",
              "      <td>7.0</td>\n",
              "      <td>10.0</td>\n",
              "      <td>3.0</td>\n",
              "      <td>2</td>\n",
              "      <td>1</td>\n",
              "      <td>2</td>\n",
              "    </tr>\n",
              "    <tr>\n",
              "      <th>2</th>\n",
              "      <td>3.0</td>\n",
              "      <td>1.0</td>\n",
              "      <td>1.0</td>\n",
              "      <td>1.0</td>\n",
              "      <td>2.0</td>\n",
              "      <td>2.0</td>\n",
              "      <td>3.0</td>\n",
              "      <td>1</td>\n",
              "      <td>1</td>\n",
              "      <td>2</td>\n",
              "    </tr>\n",
              "    <tr>\n",
              "      <th>3</th>\n",
              "      <td>6.0</td>\n",
              "      <td>8.0</td>\n",
              "      <td>8.0</td>\n",
              "      <td>1.0</td>\n",
              "      <td>3.0</td>\n",
              "      <td>4.0</td>\n",
              "      <td>3.0</td>\n",
              "      <td>7</td>\n",
              "      <td>1</td>\n",
              "      <td>2</td>\n",
              "    </tr>\n",
              "    <tr>\n",
              "      <th>4</th>\n",
              "      <td>4.0</td>\n",
              "      <td>1.0</td>\n",
              "      <td>1.0</td>\n",
              "      <td>3.0</td>\n",
              "      <td>2.0</td>\n",
              "      <td>1.0</td>\n",
              "      <td>3.0</td>\n",
              "      <td>1</td>\n",
              "      <td>1</td>\n",
              "      <td>2</td>\n",
              "    </tr>\n",
              "    <tr>\n",
              "      <th>...</th>\n",
              "      <td>...</td>\n",
              "      <td>...</td>\n",
              "      <td>...</td>\n",
              "      <td>...</td>\n",
              "      <td>...</td>\n",
              "      <td>...</td>\n",
              "      <td>...</td>\n",
              "      <td>...</td>\n",
              "      <td>...</td>\n",
              "      <td>...</td>\n",
              "    </tr>\n",
              "    <tr>\n",
              "      <th>678</th>\n",
              "      <td>3.0</td>\n",
              "      <td>1.0</td>\n",
              "      <td>1.0</td>\n",
              "      <td>1.0</td>\n",
              "      <td>3.0</td>\n",
              "      <td>2.0</td>\n",
              "      <td>1.0</td>\n",
              "      <td>1</td>\n",
              "      <td>1</td>\n",
              "      <td>2</td>\n",
              "    </tr>\n",
              "    <tr>\n",
              "      <th>679</th>\n",
              "      <td>2.0</td>\n",
              "      <td>1.0</td>\n",
              "      <td>1.0</td>\n",
              "      <td>1.0</td>\n",
              "      <td>2.0</td>\n",
              "      <td>1.0</td>\n",
              "      <td>1.0</td>\n",
              "      <td>1</td>\n",
              "      <td>1</td>\n",
              "      <td>2</td>\n",
              "    </tr>\n",
              "    <tr>\n",
              "      <th>680</th>\n",
              "      <td>5.0</td>\n",
              "      <td>10.0</td>\n",
              "      <td>10.0</td>\n",
              "      <td>3.0</td>\n",
              "      <td>7.0</td>\n",
              "      <td>3.0</td>\n",
              "      <td>8.0</td>\n",
              "      <td>10</td>\n",
              "      <td>2</td>\n",
              "      <td>4</td>\n",
              "    </tr>\n",
              "    <tr>\n",
              "      <th>681</th>\n",
              "      <td>4.0</td>\n",
              "      <td>8.0</td>\n",
              "      <td>6.0</td>\n",
              "      <td>4.0</td>\n",
              "      <td>3.0</td>\n",
              "      <td>4.0</td>\n",
              "      <td>10.0</td>\n",
              "      <td>6</td>\n",
              "      <td>1</td>\n",
              "      <td>4</td>\n",
              "    </tr>\n",
              "    <tr>\n",
              "      <th>682</th>\n",
              "      <td>4.0</td>\n",
              "      <td>8.0</td>\n",
              "      <td>8.0</td>\n",
              "      <td>5.0</td>\n",
              "      <td>4.0</td>\n",
              "      <td>5.0</td>\n",
              "      <td>10.0</td>\n",
              "      <td>4</td>\n",
              "      <td>1</td>\n",
              "      <td>4</td>\n",
              "    </tr>\n",
              "  </tbody>\n",
              "</table>\n",
              "<p>683 rows × 10 columns</p>\n",
              "</div>\n",
              "    <div class=\"colab-df-buttons\">\n",
              "\n",
              "  <div class=\"colab-df-container\">\n",
              "    <button class=\"colab-df-convert\" onclick=\"convertToInteractive('df-891152a6-532f-42c8-b0ed-4ba5992a5450')\"\n",
              "            title=\"Convert this dataframe to an interactive table.\"\n",
              "            style=\"display:none;\">\n",
              "\n",
              "  <svg xmlns=\"http://www.w3.org/2000/svg\" height=\"24px\" viewBox=\"0 -960 960 960\">\n",
              "    <path d=\"M120-120v-720h720v720H120Zm60-500h600v-160H180v160Zm220 220h160v-160H400v160Zm0 220h160v-160H400v160ZM180-400h160v-160H180v160Zm440 0h160v-160H620v160ZM180-180h160v-160H180v160Zm440 0h160v-160H620v160Z\"/>\n",
              "  </svg>\n",
              "    </button>\n",
              "\n",
              "  <style>\n",
              "    .colab-df-container {\n",
              "      display:flex;\n",
              "      gap: 12px;\n",
              "    }\n",
              "\n",
              "    .colab-df-convert {\n",
              "      background-color: #E8F0FE;\n",
              "      border: none;\n",
              "      border-radius: 50%;\n",
              "      cursor: pointer;\n",
              "      display: none;\n",
              "      fill: #1967D2;\n",
              "      height: 32px;\n",
              "      padding: 0 0 0 0;\n",
              "      width: 32px;\n",
              "    }\n",
              "\n",
              "    .colab-df-convert:hover {\n",
              "      background-color: #E2EBFA;\n",
              "      box-shadow: 0px 1px 2px rgba(60, 64, 67, 0.3), 0px 1px 3px 1px rgba(60, 64, 67, 0.15);\n",
              "      fill: #174EA6;\n",
              "    }\n",
              "\n",
              "    .colab-df-buttons div {\n",
              "      margin-bottom: 4px;\n",
              "    }\n",
              "\n",
              "    [theme=dark] .colab-df-convert {\n",
              "      background-color: #3B4455;\n",
              "      fill: #D2E3FC;\n",
              "    }\n",
              "\n",
              "    [theme=dark] .colab-df-convert:hover {\n",
              "      background-color: #434B5C;\n",
              "      box-shadow: 0px 1px 3px 1px rgba(0, 0, 0, 0.15);\n",
              "      filter: drop-shadow(0px 1px 2px rgba(0, 0, 0, 0.3));\n",
              "      fill: #FFFFFF;\n",
              "    }\n",
              "  </style>\n",
              "\n",
              "    <script>\n",
              "      const buttonEl =\n",
              "        document.querySelector('#df-891152a6-532f-42c8-b0ed-4ba5992a5450 button.colab-df-convert');\n",
              "      buttonEl.style.display =\n",
              "        google.colab.kernel.accessAllowed ? 'block' : 'none';\n",
              "\n",
              "      async function convertToInteractive(key) {\n",
              "        const element = document.querySelector('#df-891152a6-532f-42c8-b0ed-4ba5992a5450');\n",
              "        const dataTable =\n",
              "          await google.colab.kernel.invokeFunction('convertToInteractive',\n",
              "                                                    [key], {});\n",
              "        if (!dataTable) return;\n",
              "\n",
              "        const docLinkHtml = 'Like what you see? Visit the ' +\n",
              "          '<a target=\"_blank\" href=https://colab.research.google.com/notebooks/data_table.ipynb>data table notebook</a>'\n",
              "          + ' to learn more about interactive tables.';\n",
              "        element.innerHTML = '';\n",
              "        dataTable['output_type'] = 'display_data';\n",
              "        await google.colab.output.renderOutput(dataTable, element);\n",
              "        const docLink = document.createElement('div');\n",
              "        docLink.innerHTML = docLinkHtml;\n",
              "        element.appendChild(docLink);\n",
              "      }\n",
              "    </script>\n",
              "  </div>\n",
              "\n",
              "\n",
              "<div id=\"df-35114359-ce5a-48ea-8978-294957a190ed\">\n",
              "  <button class=\"colab-df-quickchart\" onclick=\"quickchart('df-35114359-ce5a-48ea-8978-294957a190ed')\"\n",
              "            title=\"Suggest charts\"\n",
              "            style=\"display:none;\">\n",
              "\n",
              "<svg xmlns=\"http://www.w3.org/2000/svg\" height=\"24px\"viewBox=\"0 0 24 24\"\n",
              "     width=\"24px\">\n",
              "    <g>\n",
              "        <path d=\"M19 3H5c-1.1 0-2 .9-2 2v14c0 1.1.9 2 2 2h14c1.1 0 2-.9 2-2V5c0-1.1-.9-2-2-2zM9 17H7v-7h2v7zm4 0h-2V7h2v10zm4 0h-2v-4h2v4z\"/>\n",
              "    </g>\n",
              "</svg>\n",
              "  </button>\n",
              "\n",
              "<style>\n",
              "  .colab-df-quickchart {\n",
              "      --bg-color: #E8F0FE;\n",
              "      --fill-color: #1967D2;\n",
              "      --hover-bg-color: #E2EBFA;\n",
              "      --hover-fill-color: #174EA6;\n",
              "      --disabled-fill-color: #AAA;\n",
              "      --disabled-bg-color: #DDD;\n",
              "  }\n",
              "\n",
              "  [theme=dark] .colab-df-quickchart {\n",
              "      --bg-color: #3B4455;\n",
              "      --fill-color: #D2E3FC;\n",
              "      --hover-bg-color: #434B5C;\n",
              "      --hover-fill-color: #FFFFFF;\n",
              "      --disabled-bg-color: #3B4455;\n",
              "      --disabled-fill-color: #666;\n",
              "  }\n",
              "\n",
              "  .colab-df-quickchart {\n",
              "    background-color: var(--bg-color);\n",
              "    border: none;\n",
              "    border-radius: 50%;\n",
              "    cursor: pointer;\n",
              "    display: none;\n",
              "    fill: var(--fill-color);\n",
              "    height: 32px;\n",
              "    padding: 0;\n",
              "    width: 32px;\n",
              "  }\n",
              "\n",
              "  .colab-df-quickchart:hover {\n",
              "    background-color: var(--hover-bg-color);\n",
              "    box-shadow: 0 1px 2px rgba(60, 64, 67, 0.3), 0 1px 3px 1px rgba(60, 64, 67, 0.15);\n",
              "    fill: var(--button-hover-fill-color);\n",
              "  }\n",
              "\n",
              "  .colab-df-quickchart-complete:disabled,\n",
              "  .colab-df-quickchart-complete:disabled:hover {\n",
              "    background-color: var(--disabled-bg-color);\n",
              "    fill: var(--disabled-fill-color);\n",
              "    box-shadow: none;\n",
              "  }\n",
              "\n",
              "  .colab-df-spinner {\n",
              "    border: 2px solid var(--fill-color);\n",
              "    border-color: transparent;\n",
              "    border-bottom-color: var(--fill-color);\n",
              "    animation:\n",
              "      spin 1s steps(1) infinite;\n",
              "  }\n",
              "\n",
              "  @keyframes spin {\n",
              "    0% {\n",
              "      border-color: transparent;\n",
              "      border-bottom-color: var(--fill-color);\n",
              "      border-left-color: var(--fill-color);\n",
              "    }\n",
              "    20% {\n",
              "      border-color: transparent;\n",
              "      border-left-color: var(--fill-color);\n",
              "      border-top-color: var(--fill-color);\n",
              "    }\n",
              "    30% {\n",
              "      border-color: transparent;\n",
              "      border-left-color: var(--fill-color);\n",
              "      border-top-color: var(--fill-color);\n",
              "      border-right-color: var(--fill-color);\n",
              "    }\n",
              "    40% {\n",
              "      border-color: transparent;\n",
              "      border-right-color: var(--fill-color);\n",
              "      border-top-color: var(--fill-color);\n",
              "    }\n",
              "    60% {\n",
              "      border-color: transparent;\n",
              "      border-right-color: var(--fill-color);\n",
              "    }\n",
              "    80% {\n",
              "      border-color: transparent;\n",
              "      border-right-color: var(--fill-color);\n",
              "      border-bottom-color: var(--fill-color);\n",
              "    }\n",
              "    90% {\n",
              "      border-color: transparent;\n",
              "      border-bottom-color: var(--fill-color);\n",
              "    }\n",
              "  }\n",
              "</style>\n",
              "\n",
              "  <script>\n",
              "    async function quickchart(key) {\n",
              "      const quickchartButtonEl =\n",
              "        document.querySelector('#' + key + ' button');\n",
              "      quickchartButtonEl.disabled = true;  // To prevent multiple clicks.\n",
              "      quickchartButtonEl.classList.add('colab-df-spinner');\n",
              "      try {\n",
              "        const charts = await google.colab.kernel.invokeFunction(\n",
              "            'suggestCharts', [key], {});\n",
              "      } catch (error) {\n",
              "        console.error('Error during call to suggestCharts:', error);\n",
              "      }\n",
              "      quickchartButtonEl.classList.remove('colab-df-spinner');\n",
              "      quickchartButtonEl.classList.add('colab-df-quickchart-complete');\n",
              "    }\n",
              "    (() => {\n",
              "      let quickchartButtonEl =\n",
              "        document.querySelector('#df-35114359-ce5a-48ea-8978-294957a190ed button');\n",
              "      quickchartButtonEl.style.display =\n",
              "        google.colab.kernel.accessAllowed ? 'block' : 'none';\n",
              "    })();\n",
              "  </script>\n",
              "</div>\n",
              "\n",
              "  <div id=\"id_5e2a283d-522b-476f-b218-42040f4ef939\">\n",
              "    <style>\n",
              "      .colab-df-generate {\n",
              "        background-color: #E8F0FE;\n",
              "        border: none;\n",
              "        border-radius: 50%;\n",
              "        cursor: pointer;\n",
              "        display: none;\n",
              "        fill: #1967D2;\n",
              "        height: 32px;\n",
              "        padding: 0 0 0 0;\n",
              "        width: 32px;\n",
              "      }\n",
              "\n",
              "      .colab-df-generate:hover {\n",
              "        background-color: #E2EBFA;\n",
              "        box-shadow: 0px 1px 2px rgba(60, 64, 67, 0.3), 0px 1px 3px 1px rgba(60, 64, 67, 0.15);\n",
              "        fill: #174EA6;\n",
              "      }\n",
              "\n",
              "      [theme=dark] .colab-df-generate {\n",
              "        background-color: #3B4455;\n",
              "        fill: #D2E3FC;\n",
              "      }\n",
              "\n",
              "      [theme=dark] .colab-df-generate:hover {\n",
              "        background-color: #434B5C;\n",
              "        box-shadow: 0px 1px 3px 1px rgba(0, 0, 0, 0.15);\n",
              "        filter: drop-shadow(0px 1px 2px rgba(0, 0, 0, 0.3));\n",
              "        fill: #FFFFFF;\n",
              "      }\n",
              "    </style>\n",
              "    <button class=\"colab-df-generate\" onclick=\"generateWithVariable('df')\"\n",
              "            title=\"Generate code using this dataframe.\"\n",
              "            style=\"display:none;\">\n",
              "\n",
              "  <svg xmlns=\"http://www.w3.org/2000/svg\" height=\"24px\"viewBox=\"0 0 24 24\"\n",
              "       width=\"24px\">\n",
              "    <path d=\"M7,19H8.4L18.45,9,17,7.55,7,17.6ZM5,21V16.75L18.45,3.32a2,2,0,0,1,2.83,0l1.4,1.43a1.91,1.91,0,0,1,.58,1.4,1.91,1.91,0,0,1-.58,1.4L9.25,21ZM18.45,9,17,7.55Zm-12,3A5.31,5.31,0,0,0,4.9,8.1,5.31,5.31,0,0,0,1,6.5,5.31,5.31,0,0,0,4.9,4.9,5.31,5.31,0,0,0,6.5,1,5.31,5.31,0,0,0,8.1,4.9,5.31,5.31,0,0,0,12,6.5,5.46,5.46,0,0,0,6.5,12Z\"/>\n",
              "  </svg>\n",
              "    </button>\n",
              "    <script>\n",
              "      (() => {\n",
              "      const buttonEl =\n",
              "        document.querySelector('#id_5e2a283d-522b-476f-b218-42040f4ef939 button.colab-df-generate');\n",
              "      buttonEl.style.display =\n",
              "        google.colab.kernel.accessAllowed ? 'block' : 'none';\n",
              "\n",
              "      buttonEl.onclick = () => {\n",
              "        google.colab.notebook.generateWithVariable('df');\n",
              "      }\n",
              "      })();\n",
              "    </script>\n",
              "  </div>\n",
              "\n",
              "    </div>\n",
              "  </div>\n"
            ],
            "application/vnd.google.colaboratory.intrinsic+json": {
              "type": "dataframe",
              "variable_name": "df",
              "summary": "{\n  \"name\": \"df\",\n  \"rows\": 683,\n  \"fields\": [\n    {\n      \"column\": \"Clump Thickness\",\n      \"properties\": {\n        \"dtype\": \"number\",\n        \"std\": 2.8207613188371314,\n        \"min\": 1.0,\n        \"max\": 10.0,\n        \"num_unique_values\": 10,\n        \"samples\": [\n          10.0,\n          3.0,\n          1.0\n        ],\n        \"semantic_type\": \"\",\n        \"description\": \"\"\n      }\n    },\n    {\n      \"column\": \"Uniformity of Cell Size\",\n      \"properties\": {\n        \"dtype\": \"number\",\n        \"std\": 3.0651448557860514,\n        \"min\": 1.0,\n        \"max\": 10.0,\n        \"num_unique_values\": 10,\n        \"samples\": [\n          6.0,\n          4.0,\n          3.0\n        ],\n        \"semantic_type\": \"\",\n        \"description\": \"\"\n      }\n    },\n    {\n      \"column\": \"Uniformity of Cell Shape\",\n      \"properties\": {\n        \"dtype\": \"number\",\n        \"std\": 2.9885808183250195,\n        \"min\": 1.0,\n        \"max\": 10.0,\n        \"num_unique_values\": 10,\n        \"samples\": [\n          7.0,\n          4.0,\n          3.0\n        ],\n        \"semantic_type\": \"\",\n        \"description\": \"\"\n      }\n    },\n    {\n      \"column\": \"Marginal Adhesion\",\n      \"properties\": {\n        \"dtype\": \"number\",\n        \"std\": 2.8645621904469825,\n        \"min\": 1.0,\n        \"max\": 10.0,\n        \"num_unique_values\": 10,\n        \"samples\": [\n          9.0,\n          5.0,\n          4.0\n        ],\n        \"semantic_type\": \"\",\n        \"description\": \"\"\n      }\n    },\n    {\n      \"column\": \"Single Epithelial Cell Size\",\n      \"properties\": {\n        \"dtype\": \"number\",\n        \"std\": 2.223085456441806,\n        \"min\": 1.0,\n        \"max\": 10.0,\n        \"num_unique_values\": 10,\n        \"samples\": [\n          10.0,\n          7.0,\n          4.0\n        ],\n        \"semantic_type\": \"\",\n        \"description\": \"\"\n      }\n    },\n    {\n      \"column\": \"Bare Nuclei\",\n      \"properties\": {\n        \"dtype\": \"number\",\n        \"std\": 3.6438571604929035,\n        \"min\": 1.0,\n        \"max\": 10.0,\n        \"num_unique_values\": 10,\n        \"samples\": [\n          8.0,\n          10.0,\n          9.0\n        ],\n        \"semantic_type\": \"\",\n        \"description\": \"\"\n      }\n    },\n    {\n      \"column\": \"Bland Chromatin\",\n      \"properties\": {\n        \"dtype\": \"number\",\n        \"std\": 2.449696572512866,\n        \"min\": 1.0,\n        \"max\": 10.0,\n        \"num_unique_values\": 10,\n        \"samples\": [\n          6.0,\n          9.0,\n          5.0\n        ],\n        \"semantic_type\": \"\",\n        \"description\": \"\"\n      }\n    },\n    {\n      \"column\": \"Normal Nucleoli\",\n      \"properties\": {\n        \"dtype\": \"number\",\n        \"std\": 3,\n        \"min\": 1,\n        \"max\": 10,\n        \"num_unique_values\": 10,\n        \"samples\": [\n          9,\n          2,\n          3\n        ],\n        \"semantic_type\": \"\",\n        \"description\": \"\"\n      }\n    },\n    {\n      \"column\": \"Mitoses\",\n      \"properties\": {\n        \"dtype\": \"number\",\n        \"std\": 1,\n        \"min\": 1,\n        \"max\": 10,\n        \"num_unique_values\": 9,\n        \"samples\": [\n          8,\n          5,\n          7\n        ],\n        \"semantic_type\": \"\",\n        \"description\": \"\"\n      }\n    },\n    {\n      \"column\": \"Class\",\n      \"properties\": {\n        \"dtype\": \"number\",\n        \"std\": 0,\n        \"min\": 2,\n        \"max\": 4,\n        \"num_unique_values\": 2,\n        \"samples\": [\n          4,\n          2\n        ],\n        \"semantic_type\": \"\",\n        \"description\": \"\"\n      }\n    }\n  ]\n}"
            }
          },
          "metadata": {},
          "execution_count": 36
        }
      ]
    },
    {
      "cell_type": "code",
      "source": [
        "# Define features (X) and target (y)\n",
        "X = df.drop(columns=[\"clump_thickness\"])\n",
        "y = df[\"clump_thickness\"]"
      ],
      "metadata": {
        "id": "FoXDeSLyOZm7"
      },
      "execution_count": 45,
      "outputs": []
    },
    {
      "cell_type": "code",
      "source": [
        "# Split data\n",
        "X_train, X_test, y_train, y_test = train_test_split(X, y, test_size=0.2, random_state=42)"
      ],
      "metadata": {
        "id": "vbQA0FfnOsZj"
      },
      "execution_count": 46,
      "outputs": []
    },
    {
      "cell_type": "code",
      "source": [
        "def gradient_descent(X, Y, B, alpha, iterations):\n",
        "    cost_history = [0] * iterations\n",
        "    m = len(Y)\n",
        "\n",
        "    for iteration in range(iterations):\n",
        "        # Hypothesis Values\n",
        "        Y_pred = X.dot(W)\n",
        "        # Difference b/w Hypothesis and Actual Y\n",
        "        loss = Y-Y_pred\n",
        "        # Gradient Calculation\n",
        "        dw = - X.T.dot(loss)/m\n",
        "        # Changing Values of B using Gradient\n",
        "        W_update = W - alpha *dw\n",
        "        # New Cost Value\n",
        "        cost = cost_function(X, Y, W_update)\n",
        "        cost_history[iteration] = cost\n",
        "\n",
        "    return W_update, cost_history"
      ],
      "metadata": {
        "id": "890f0M-HbObC"
      },
      "execution_count": 47,
      "outputs": []
    },
    {
      "cell_type": "code",
      "source": [
        "# Scratch-built Linear Regression model using Gradient Descent\n",
        "class ScratchLinearRegression:\n",
        "    def __init__(self, learning_rate=0.01, iterations=1000):\n",
        "        self.learning_rate = learning_rate\n",
        "        self.iterations = iterations\n",
        "        self.theta = None\n",
        "\n",
        "    def fit(self, X, y):\n",
        "        # Convert X and y to NumPy arrays to ensure correct shape\n",
        "        X = X.values  # Convert X to a NumPy array\n",
        "        y = y.values.reshape(-1, 1)  # Convert y to a NumPy array and reshape\n",
        "\n",
        "        m, n = X.shape\n",
        "        self.theta = np.zeros((n, 1))\n",
        "\n",
        "        for _ in range(self.iterations):\n",
        "            gradients = (1/m) * X.T @ (X @ self.theta - y)\n",
        "            self.theta -= self.learning_rate * gradients\n",
        "\n",
        "    def predict(self, X):\n",
        "        # Convert X to NumPy array before prediction\n",
        "        X = X.values  # Convert X to a NumPy array\n",
        "        return X @ self.theta"
      ],
      "metadata": {
        "id": "Jib15-DgbS7d"
      },
      "execution_count": 48,
      "outputs": []
    },
    {
      "cell_type": "code",
      "source": [
        "# Instantiate the ScratchLinearRegression model\n",
        "model = ScratchLinearRegression()\n",
        "\n",
        "# Train the model on the training data\n",
        "model.fit(X_train, y_train)\n",
        "\n",
        "# Predict on the test data\n",
        "y_pred_scratch = model.predict(X_test)\n",
        "\n",
        "# Evaluate model\n",
        "mse = np.mean((y_test.values.reshape(-1, 1) - y_pred_scratch) ** 2)  # Reshape y_test to (137, 1)\n",
        "r2 = 1 - (np.sum((y_test.values.reshape(-1, 1) - y_pred_scratch) ** 2) / np.sum((y_test.values.reshape(-1, 1) - np.mean(y_test.values.reshape(-1, 1))) ** 2))  # Reshape y_test here as well\n",
        "print(f'Scratch Model Mean Squared Error: {mse:.4f}')\n",
        "print(f'Scratch Model R-squared Score: {r2:.4f}')"
      ],
      "metadata": {
        "colab": {
          "base_uri": "https://localhost:8080/"
        },
        "id": "rc6vzYTmbUtw",
        "outputId": "7edbd07e-fbb9-4169-bba6-1605808c9ed6"
      },
      "execution_count": 49,
      "outputs": [
        {
          "output_type": "stream",
          "name": "stdout",
          "text": [
            "Scratch Model Mean Squared Error: 5.2162\n",
            "Scratch Model R-squared Score: 0.2834\n"
          ]
        }
      ]
    },
    {
      "cell_type": "code",
      "source": [
        "X = df.drop('clump_thickness', axis=1)\n",
        "y = df['clump_thickness']"
      ],
      "metadata": {
        "id": "V54pG1chQdqA"
      },
      "execution_count": 52,
      "outputs": []
    },
    {
      "cell_type": "code",
      "source": [
        "#Splitting the dataset into training and testing sets\n",
        "X_train, X_test, y_train, y_test = train_test_split(X, y, test_size=0.2, random_state=42)"
      ],
      "metadata": {
        "id": "Wpcd4ByWQuVJ"
      },
      "execution_count": 53,
      "outputs": []
    },
    {
      "cell_type": "code",
      "source": [
        "# Normalize features (important for models like Linear Regression & Neural Networks)\n",
        "scaler = StandardScaler()\n",
        "X_train = scaler.fit_transform(X_train)\n",
        "X_test = scaler.transform(X_test)"
      ],
      "metadata": {
        "id": "5rpVC48UQ6aN"
      },
      "execution_count": 57,
      "outputs": []
    },
    {
      "cell_type": "code",
      "source": [
        "# Initialize the linear regression model\n",
        "linear_model = LinearRegression()\n",
        "linear_model.fit(X_train, y_train)\n",
        "\n",
        "# Make predictions\n",
        "y_pred_linear = linear_model.predict(X_test)"
      ],
      "metadata": {
        "id": "E0U0jYFpRf6e"
      },
      "execution_count": 58,
      "outputs": []
    },
    {
      "cell_type": "code",
      "source": [
        "# Initialize the random forest regressor\n",
        "rf_model = RandomForestRegressor(n_estimators=100, random_state=42)\n",
        "rf_model.fit(X_train, y_train)\n",
        "\n",
        "# Make predictions\n",
        "y_pred_rf = rf_model.predict(X_test)"
      ],
      "metadata": {
        "id": "8c9QgK9pRjLJ"
      },
      "execution_count": 61,
      "outputs": []
    },
    {
      "cell_type": "code",
      "source": [
        "# Calculate MAE, RMSE, and R-squared for Linear Regression\n",
        "mae_linear = mean_absolute_error(y_test, y_pred_linear)\n",
        "rmse_linear = np.sqrt(mean_squared_error(y_test, y_pred_linear))\n",
        "r2_linear = r2_score(y_test, y_pred_linear)\n",
        "\n",
        "# Calculate MAE, RMSE, and R-squared for Random Forest Regressor\n",
        "mae_rf = mean_absolute_error(y_test, y_pred_rf)\n",
        "rmse_rf = np.sqrt(mean_squared_error(y_test, y_pred_rf))\n",
        "r2_rf = r2_score(y_test, y_pred_rf)\n",
        "\n",
        "# Print Evaluation Metrics for Both Models\n",
        "print(\"Linear Regression Model Evaluation:\")\n",
        "print(f\"MAE: {mae_linear}\")\n",
        "print(f\"RMSE: {rmse_linear}\")\n",
        "print(f\"R-squared: {r2_linear}\")\n",
        "\n",
        "print(\"\\nRandom Forest Regressor Evaluation:\")\n",
        "print(f\"MAE: {mae_rf}\")\n",
        "print(f\"RMSE: {rmse_rf}\")\n",
        "print(f\"R-squared: {r2_rf}\")"
      ],
      "metadata": {
        "colab": {
          "base_uri": "https://localhost:8080/"
        },
        "id": "590F6p2NR3b_",
        "outputId": "231f40ef-21b2-4f3f-881f-2bad758ee072"
      },
      "execution_count": 64,
      "outputs": [
        {
          "output_type": "stream",
          "name": "stdout",
          "text": [
            "Linear Regression Model Evaluation:\n",
            "MAE: 1.854444196353685\n",
            "RMSE: 2.2854172679858693\n",
            "R-squared: 0.28245162193068707\n",
            "\n",
            "Random Forest Regressor Evaluation:\n",
            "MAE: 1.8897918831168832\n",
            "RMSE: 2.316762820365769\n",
            "R-squared: 0.26263362691921566\n"
          ]
        }
      ]
    },
    {
      "cell_type": "code",
      "source": [
        "# For Linear Regression\n",
        "# Using valid parameters for newer scikit-learn versions\n",
        "lr_params = {\n",
        "    'fit_intercept': [True, False],\n",
        "    'positive': [True, False]  # Constraint coefficients to be positive\n",
        "}\n",
        "\n",
        "lr_grid = GridSearchCV(\n",
        "    LinearRegression(),\n",
        "    lr_params,\n",
        "    cv=5,\n",
        "    scoring='neg_mean_squared_error',\n",
        "    n_jobs=-1\n",
        ")\n",
        "lr_grid.fit(X_train, y_train)\n",
        "\n",
        "print(\"\\nBest Linear Regression Parameters:\")\n",
        "print(lr_grid.best_params_)\n",
        "print(\"Best Cross-Validation Score:\", np.sqrt(-lr_grid.best_score_))"
      ],
      "metadata": {
        "colab": {
          "base_uri": "https://localhost:8080/"
        },
        "id": "tyN1LCecSXun",
        "outputId": "a34c692e-e715-4a66-bcb9-e65bd7ca0a43"
      },
      "execution_count": 65,
      "outputs": [
        {
          "output_type": "stream",
          "name": "stdout",
          "text": [
            "\n",
            "Best Linear Regression Parameters:\n",
            "{'fit_intercept': True, 'positive': True}\n",
            "Best Cross-Validation Score: 2.084688200815645\n"
          ]
        }
      ]
    },
    {
      "cell_type": "code",
      "source": [
        "rf_params = {\n",
        "    'n_estimators': [30, 50, 100],\n",
        "    'max_depth': [None, 10, 20, 30],\n",
        "    'min_samples_split': [2, 5, 10],\n",
        "    'min_samples_leaf': [1, 2, 4]\n",
        "}\n",
        "\n",
        "rf_random = RandomizedSearchCV(\n",
        "    RandomForestRegressor(random_state=42),\n",
        "    rf_params,\n",
        "    n_iter=10,  # Try only 10 random combinations\n",
        "    cv=3,\n",
        "    scoring='neg_mean_squared_error',\n",
        "    n_jobs=-1,\n",
        "    random_state=42\n",
        ")\n",
        "rf_random.fit(X_train, y_train)\n",
        "\n",
        "print(\"\\nBest Random Forest Parameters:\")\n",
        "print(rf_random.best_params_)\n",
        "print(\"Best Cross-Validation Score:\", np.sqrt(-rf_random.best_score_))"
      ],
      "metadata": {
        "colab": {
          "base_uri": "https://localhost:8080/"
        },
        "id": "2wg1CQ7uScPt",
        "outputId": "0589768d-0290-4e17-8160-f0f033d20b68"
      },
      "execution_count": 66,
      "outputs": [
        {
          "output_type": "stream",
          "name": "stdout",
          "text": [
            "\n",
            "Best Random Forest Parameters:\n",
            "{'n_estimators': 30, 'min_samples_split': 2, 'min_samples_leaf': 4, 'max_depth': 10}\n",
            "Best Cross-Validation Score: 2.1595644223762607\n"
          ]
        }
      ]
    },
    {
      "cell_type": "code",
      "source": [
        "X_train = pd.DataFrame(X_train, columns = X.columns)\n",
        "X_test = pd.DataFrame(X_test, columns =X.columns)\n",
        "\n",
        "# Train the Random Forest model\n",
        "rf_model = RandomForestRegressor(n_estimators=100, random_state=42)\n",
        "rf_model.fit(X_train, y_train)\n",
        "\n",
        "# Get feature importances\n",
        "feature_importances = rf_model.feature_importances_\n",
        "\n",
        "# Create DataFrame to view the importance of each feature\n",
        "importances_df = pd.DataFrame({\n",
        "    'Feature': X_train.columns,\n",
        "    'Importance': feature_importances\n",
        "})\n",
        "importances_df = importances_df.sort_values(by='Importance', ascending=False)\n",
        "\n",
        "print(\"\\nFeature Importances from Random Forest:\")\n",
        "print(importances_df)\n",
        "\n",
        "# Select the top features (say, top 5 important features)\n",
        "top_features_rf = importances_df['Feature'].head().values"
      ],
      "metadata": {
        "colab": {
          "base_uri": "https://localhost:8080/"
        },
        "id": "8rxPg2_nSjTM",
        "outputId": "c2101604-672e-4603-ad1c-48105ffde516"
      },
      "execution_count": 67,
      "outputs": [
        {
          "output_type": "stream",
          "name": "stdout",
          "text": [
            "\n",
            "Feature Importances from Random Forest:\n",
            "                       Feature  Importance\n",
            "8                        class    0.486103\n",
            "1     uniformity_of_cell_shape    0.077326\n",
            "2            marginal_adhesion    0.076601\n",
            "5              bland_chromatin    0.071397\n",
            "0      uniformity_of_cell_size    0.069859\n",
            "3  single_epithelial_cell_size    0.067612\n",
            "6              normal_nucleoli    0.058355\n",
            "4                  bare_nuclei    0.050873\n",
            "7                      mitoses    0.041874\n"
          ]
        }
      ]
    },
    {
      "cell_type": "code",
      "source": [
        "# Best hyperparameters from the grid search\n",
        "best_lr_params = lr_grid.best_params_\n",
        "\n",
        "# Initialize Linear Regression with the best parameters\n",
        "lr_final = LinearRegression(\n",
        "    fit_intercept=best_lr_params['fit_intercept'],\n",
        "    positive=best_lr_params['positive']\n",
        "  )\n",
        "\n",
        "# Initialize RFE with the Linear Regression model and the number of features to select\n",
        "rfe_lr = RFE(lr_final, n_features_to_select=5)  # Select top 5 features\n",
        "rfe_lr.fit(X_train, y_train)\n",
        "\n",
        "# Get selected features\n",
        "selected_features_lr = X_train.columns[rfe_lr.support_]\n",
        "print(\"Selected Features for Linear Regression:\")\n",
        "print(selected_features_lr)\n",
        "\n",
        "# Create a new feature set based on the selected features\n",
        "X_train_selected_lr = X_train[selected_features_lr]\n",
        "X_test_selected_lr = X_test[selected_features_lr]"
      ],
      "metadata": {
        "colab": {
          "base_uri": "https://localhost:8080/"
        },
        "id": "lHwuvs9WSnPv",
        "outputId": "38d5c8c3-1930-4af9-d1d5-9d12bcef6c78"
      },
      "execution_count": 68,
      "outputs": [
        {
          "output_type": "stream",
          "name": "stdout",
          "text": [
            "Selected Features for Linear Regression:\n",
            "Index(['uniformity_of_cell_size', 'uniformity_of_cell_shape', 'bare_nuclei',\n",
            "       'mitoses', 'class'],\n",
            "      dtype='object')\n"
          ]
        }
      ]
    },
    {
      "cell_type": "code",
      "source": [
        "# Create a new feature set based on the top features\n",
        "X_train_selected_rf = X_train[top_features_rf]\n",
        "X_test_selected_rf = X_test[top_features_rf]\n",
        "\n",
        "# Re-train the model using only the selected features\n",
        "rf_model_selected = RandomForestRegressor(n_estimators=100, random_state=42)\n",
        "rf_model_selected.fit(X_train_selected_rf, y_train)\n",
        "\n",
        "# Predictions\n",
        "y_pred_rf_selected = rf_model_selected.predict(X_test_selected_rf)\n",
        "\n",
        "# Evaluate Model Performance\n",
        "rmse_rf_selected = np.sqrt(mean_squared_error(y_test, y_pred_rf_selected))\n",
        "print(f\"RMSE for Model with Selected Features (Random Forest): {rmse_rf_selected}\")"
      ],
      "metadata": {
        "colab": {
          "base_uri": "https://localhost:8080/"
        },
        "id": "RV__jUofSqqd",
        "outputId": "5242e69a-c622-4786-b9a4-6e7ada526bae"
      },
      "execution_count": 69,
      "outputs": [
        {
          "output_type": "stream",
          "name": "stdout",
          "text": [
            "RMSE for Model with Selected Features (Random Forest): 2.5068419659191323\n"
          ]
        }
      ]
    },
    {
      "cell_type": "code",
      "source": [
        "# Re-train the Linear Regression model using only the selected features\n",
        "lr_final_selected = LinearRegression(fit_intercept=best_lr_params['fit_intercept'],\n",
        "                                     positive=best_lr_params['positive'])\n",
        "lr_final_selected.fit(X_train_selected_lr, y_train)\n",
        "\n",
        "# Predictions\n",
        "y_pred_lr_selected = lr_final_selected.predict(X_test_selected_lr)\n",
        "\n",
        "# Evaluate Model Performance\n",
        "rmse_lr_selected = np.sqrt(mean_squared_error(y_test, y_pred_lr_selected))\n",
        "print(f\"RMSE for Model with Selected Features (Linear Regression): {rmse_lr_selected}\")"
      ],
      "metadata": {
        "colab": {
          "base_uri": "https://localhost:8080/"
        },
        "id": "JP0y95SDSu_M",
        "outputId": "bed068de-9728-40ab-9dca-8dd442d7b1ad"
      },
      "execution_count": 70,
      "outputs": [
        {
          "output_type": "stream",
          "name": "stdout",
          "text": [
            "RMSE for Model with Selected Features (Linear Regression): 2.3021411200907593\n"
          ]
        }
      ]
    }
  ]
}