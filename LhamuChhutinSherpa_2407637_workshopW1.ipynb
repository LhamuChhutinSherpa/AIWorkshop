{
  "nbformat": 4,
  "nbformat_minor": 0,
  "metadata": {
    "colab": {
      "provenance": []
    },
    "kernelspec": {
      "name": "python3",
      "display_name": "Python 3"
    },
    "language_info": {
      "name": "python"
    }
  },
  "cells": [
    {
      "cell_type": "markdown",
      "source": [
        "Task 1\n",
        "Task 2"
      ],
      "metadata": {
        "id": "elnExfx-MBFl"
      }
    },
    {
      "cell_type": "code",
      "execution_count": null,
      "metadata": {
        "colab": {
          "base_uri": "https://localhost:8080/"
        },
        "id": "HnMbSMnttXxW",
        "outputId": "ddb014e0-d414-43e2-e33e-c0916dec4f6e"
      },
      "outputs": [
        {
          "output_type": "stream",
          "name": "stdout",
          "text": [
            "Cold temperature:  [8.2, 7.9, 9.0, 8.5, 7.7, 8.4, 9.5, 8.1, 7.6, 8.0, 7.8, 8.7, 9.2, 8.3, 8.9, 7.8]\n",
            "The number of items in the cold list is:  16\n",
            "Mild temperature:  [14.1, 13.5, 13.0, 12.9, 13.3, 14.0, 13.4, 14.2, 12.8, 13.7, 13.6, 13.8, 13.9, 12.7, 13.1, 12.5]\n",
            "The number of items in the mild list is:  16\n",
            "Comfortable temperature:  [17.4, 18.0, 17.8, 16.5, 17.2, 16.7, 18.3, 17.9, 17.0, 16.8, 17.5, 17.1, 18.1, 16.4, 18.2, 16.6]\n",
            "The number of items in the comfortable list is:  16\n"
          ]
        }
      ],
      "source": [
        "temperatures = [8.2, 17.4, 14.1, 7.9, 18.0, 13.5, 9.0, 17.8, 13.0, 8.5,\n",
        "16.5, 12.9, 7.7, 17.2, 13.3, 8.4, 16.7, 14.0, 9.5, 18.3, 13.4, 8.1,\n",
        "17.9, 14.2, 7.6, 17.0, 12.8, 8.0, 16.8, 13.7, 7.8, 17.5, 13.6, 8.7,\n",
        "17.1, 13.8, 9.2, 18.1, 13.9, 8.3, 16.4, 12.7, 8.9, 18.2, 13.1, 7.8,\n",
        "16.6, 12.5]\n",
        "\n",
        "list_x=[]\n",
        "\n",
        "for temperature in temperatures:\n",
        "  if temperature<10:\n",
        "    list_x.append(temperature)\n",
        "print(\"Cold temperature: \", list_x)\n",
        "print(\"The number of items in the cold list is: \", len(list_x))\n",
        "\n",
        "list_y=[temperature for temperature in temperatures if 10 <= temperature <= 15]\n",
        "print(\"Mild temperature: \", list_y)\n",
        "print(\"The number of items in the mild list is: \", len(list_y))\n",
        "\n",
        "list_z=[temperature for temperature in temperatures if 15<= temperature <=20 ]\n",
        "print(\"Comfortable temperature: \", list_z)\n",
        "print(\"The number of items in the comfortable list is: \", len(list_z))\n"
      ]
    },
    {
      "cell_type": "markdown",
      "source": [
        "Task3"
      ],
      "metadata": {
        "id": "JSmcQH9yMINs"
      }
    },
    {
      "cell_type": "code",
      "source": [
        "temperatures = [8.2, 17.4, 14.1, 7.9, 18.0, 13.5, 9.0, 17.8, 13.0, 8.5,\n",
        "16.5, 12.9, 7.7, 17.2, 13.3, 8.4, 16.7, 14.0, 9.5, 18.3, 13.4, 8.1,\n",
        "17.9, 14.2, 7.6, 17.0, 12.8, 8.0, 16.8, 13.7, 7.8, 17.5, 13.6, 8.7,\n",
        "17.1, 13.8, 9.2, 18.1, 13.9, 8.3, 16.4, 12.7, 8.9, 18.2, 13.1, 7.8,\n",
        "16.6, 12.5]\n",
        "\n",
        "list_temperature=[]\n",
        "for temperature in temperatures:\n",
        "  a=temperature*9/5\n",
        "  list_temperature.append(a)\n",
        "print(\"Fahrenheit:\",list_temperature)"
      ],
      "metadata": {
        "colab": {
          "base_uri": "https://localhost:8080/"
        },
        "id": "YQE5VLUowDeF",
        "outputId": "b3e68f8a-5fa1-4177-d324-d3754467a2ee"
      },
      "execution_count": null,
      "outputs": [
        {
          "output_type": "stream",
          "name": "stdout",
          "text": [
            "Fahrenheit: [14.76, 31.32, 25.38, 14.220000000000002, 32.4, 24.3, 16.2, 32.040000000000006, 23.4, 15.3, 29.7, 23.220000000000002, 13.86, 30.959999999999997, 23.94, 15.120000000000001, 30.059999999999995, 25.2, 17.1, 32.940000000000005, 24.12, 14.579999999999998, 32.22, 25.56, 13.679999999999998, 30.6, 23.04, 14.4, 30.240000000000002, 24.66, 14.040000000000001, 31.5, 24.479999999999997, 15.66, 30.78, 24.84, 16.56, 32.58, 25.020000000000003, 14.940000000000001, 29.52, 22.86, 16.020000000000003, 32.76, 23.58, 14.040000000000001, 29.880000000000003, 22.5]\n"
          ]
        }
      ]
    },
    {
      "cell_type": "code",
      "source": [
        "temperatures = [8.2, 17.4, 14.1, 7.9, 18.0, 13.5, 9.0, 17.8, 13.0, 8.5,\n",
        "16.5, 12.9, 7.7, 17.2, 13.3, 8.4, 16.7, 14.0, 9.5, 18.3, 13.4, 8.1,\n",
        "17.9, 14.2, 7.6, 17.0, 12.8, 8.0, 16.8, 13.7, 7.8, 17.5, 13.6, 8.7,\n",
        "17.1, 13.8, 9.2, 18.1, 13.9, 8.3, 16.4, 12.7, 8.9, 18.2, 13.1, 7.8,\n",
        "16.6, 12.5]\n",
        "\n",
        "list_temperature=[]\n",
        "\n",
        "for temperature in temperatures:\n",
        "  if temperature<8:\n",
        "    for i in range(0,9):\n",
        "      list_temperature.append(temperature)\n",
        "      break\n",
        "print(\"Night: \",list_temperature)\n",
        "\n",
        "for i in range(8,17):\n",
        "  if i<16:\n",
        "    list_temperature.append(i)\n",
        "    break\n",
        "print(\"Evening: \", list_temperature)"
      ],
      "metadata": {
        "colab": {
          "base_uri": "https://localhost:8080/"
        },
        "id": "tp5S79XgwV-0",
        "outputId": "f19a6e28-e095-4992-e039-6bbdc83caa8b"
      },
      "execution_count": null,
      "outputs": [
        {
          "output_type": "stream",
          "name": "stdout",
          "text": [
            "Night:  [7.9, 7.7, 7.6, 7.8, 7.8]\n",
            "Evening:  [7.9, 7.7, 7.6, 7.8, 7.8, 8]\n"
          ]
        }
      ]
    },
    {
      "cell_type": "code",
      "source": [
        "def sum_nested_list(nested_list):\n",
        "  \"\"\" Calculate the sum of all numbers in a nested list.\n",
        "This function takes a list that may contain integers and other nested lists.\n",
        "It recursively traverses the list and sums all the integers, no matter how deeply nested they are.\n",
        "Args: nested_list (list): A list that may contain integers or other lists of integers.\n",
        "Returns:\n",
        "int: The total sum of all integers in the nested list, including those in sublists . Example:\n",
        ">>> sum_nested_list([1, [2, [3, 4], 5], 6, [7, 8]])\n",
        "36\n",
        ">>> sum_nested_list([1, [2, 3], [4, [5]]]) 15\n",
        "\"\"\"\n",
        "  total = 0\n",
        "  for element in nested_list:\n",
        "    if isinstance(element, list): # Check if the element is a list total += sum_nested_list(element) # Recursively sum the nested list\n",
        "      total= total+sum_nested_list(element)\n",
        "    else:\n",
        "      total += element # Add the number to the total return total\n",
        "  return total\n",
        "print(\"Sum is: \", sum_nested_list([1, [2, [3, 4], 5], 6, [7, 8]]))"
      ],
      "metadata": {
        "colab": {
          "base_uri": "https://localhost:8080/"
        },
        "id": "he0xWSUcwaed",
        "outputId": "5112c383-c029-4e3c-ac0a-3186c8787ee4"
      },
      "execution_count": null,
      "outputs": [
        {
          "output_type": "stream",
          "name": "stdout",
          "text": [
            "Sum is:  36\n"
          ]
        }
      ]
    },
    {
      "cell_type": "code",
      "source": [
        "# # Task 3 - Directory Size Calculation:\n",
        "# Task:\n",
        "# 1. Write a recursive function calculate_directory_size(directory) where:\n",
        "# directory is a dictionary where keys represent file names (with values as sizes in KB) or\n",
        "# directory names (with values as another dictionary representing a subdirectory).\n",
        "# The function should return the total size of the directory, including all nested subdirectories.\n",
        "\n",
        "# 2. Test the function with a sample directory structure.\n",
        "\n",
        "# Sample directory structure\n",
        "# directory_structure = {\n",
        "# \"file1.txt\": 200,\n",
        "# \"file2.txt\": 300,\n",
        "# \"subdir1\": {\n",
        "# \"file3.txt\": 400,\n",
        "# \"file4.txt\": 100\n",
        "# },\n",
        "# \"subdir2\": {\n",
        "# \"subsubdir1\": {\n",
        "# \"file5.txt\": 250\n",
        "# },\n",
        "#     \"file6.txt\": 150\n",
        "# }\n",
        "# }\n",
        "\n",
        "def calculate_directory_size(directory):\n",
        "    \"\"\"\n",
        "    Calculate the total size of a directory, including all files and nested subdirectories.\n",
        "\n",
        "    Args:\n",
        "        directory (dict): A dictionary representing the directory structure.\n",
        "                          Keys are file or subdirectory names, and values are either:\n",
        "                          - Integers representing file sizes (in KB), or\n",
        "                          - Dictionaries representing nested subdirectories.\n",
        "\n",
        "    Returns:\n",
        "        int: The total size of the directory in kilobytes (KB).\n",
        "    \"\"\"\n",
        "    total_size = 0  # Initialize the total size counter\n",
        "\n",
        "    # Loop through each item in the directory\n",
        "    for key, value in directory.items():\n",
        "        if isinstance(value, dict):  # Check if the item is a subdirectory\n",
        "            # Recursively calculate the size of the subdirectory and add it to the total\n",
        "            total_size += calculate_directory_size(value)\n",
        "        else:  # If the item is a file, add its size to the total\n",
        "            total_size += value\n",
        "\n",
        "    return total_size\n",
        "\n",
        "# Example directory structure for testing\n",
        "directory_structure = {\n",
        "    \"file1.txt\": 200,  # File with size 200 KB\n",
        "    \"file2.txt\": 300,  # File with size 300 KB\n",
        "    \"subdir1\": {  # Subdirectory containing two files\n",
        "        \"file3.txt\": 400,  # File with size 400 KB\n",
        "        \"file4.txt\": 100   # File with size 100 KB\n",
        "    },\n",
        "    \"subdir2\": {  # Another subdirectory with a nested subdirectory\n",
        "        \"subsubdir1\": {  # Nested subdirectory containing one file\n",
        "            \"file5.txt\": 250  # File with size 250 KB\n",
        "        }\n",
        "    }\n",
        "}\n",
        "\n",
        "# Calculate and print the total size of the directory\n",
        "total_size = calculate_directory_size(directory_structure)\n",
        "print(f\"Total size of the directory: {total_size} KB\")\n"
      ],
      "metadata": {
        "colab": {
          "base_uri": "https://localhost:8080/"
        },
        "id": "vA0xPFpEMwcg",
        "outputId": "de7d5bf6-5bcb-4c7d-ddec-25d2742926f1"
      },
      "execution_count": 5,
      "outputs": [
        {
          "output_type": "stream",
          "name": "stdout",
          "text": [
            "Total size of the directory: 1250 KB\n"
          ]
        }
      ]
    },
    {
      "cell_type": "code",
      "source": [
        "# Function to swap characters at two positions in a string\n",
        "def swap(s, i, j):\n",
        "    # Convert the string to a list to perform swapping\n",
        "    s = list(s)\n",
        "    # Swap the characters at indices i and j\n",
        "    s[i], s[j] = s[j], s[i]\n",
        "    # Convert the list back to a string and return\n",
        "    return ''.join(s)\n",
        "\n",
        "# Recursive function to generate permutations of a string\n",
        "# Parameters:\n",
        "# 1. s: The string for which permutations are to be generated.\n",
        "# 2. idx: The current starting index for permutations.\n",
        "def permuteRec(s, idx):\n",
        "    # Base case: If the current index is at the end of the string,\n",
        "    # print the string as it is a complete permutation\n",
        "    if idx == len(s) - 1:\n",
        "        print(s)\n",
        "        return\n",
        "\n",
        "    # Loop through each character from the current index to the end\n",
        "    for i in range(idx, len(s)):\n",
        "        # Swap the character at the current index with the character at i\n",
        "        s = swap(s, idx, i)\n",
        "\n",
        "        # Recursively generate permutations with the next index fixed\n",
        "        permuteRec(s, idx + 1)\n",
        "\n",
        "        # Backtrack: Swap the characters back to their original positions\n",
        "        # to explore other permutations\n",
        "        s = swap(s, idx, i)\n",
        "\n",
        "# Wrapper function to start the permutation generation process\n",
        "def permutation(s):\n",
        "    # Start recursive permutation generation from index 0\n",
        "    permuteRec(s, 0)\n",
        "\n",
        "# Driver code\n",
        "s = \"ABC\"\n",
        "# Generate and print all permutations of the string\n",
        "permutation(s)"
      ],
      "metadata": {
        "colab": {
          "base_uri": "https://localhost:8080/"
        },
        "id": "92Bn8k7bwgWF",
        "outputId": "cc5d807a-e247-4d24-d592-005ff5ff24d9"
      },
      "execution_count": 1,
      "outputs": [
        {
          "output_type": "stream",
          "name": "stdout",
          "text": [
            "ABC\n",
            "ACB\n",
            "BAC\n",
            "BCA\n",
            "CBA\n",
            "CAB\n"
          ]
        }
      ]
    },
    {
      "cell_type": "code",
      "source": [
        "def min_coins(coins, amount):\n",
        "    \"\"\"\n",
        "    Finds the minimum number of coins needed to make up a given amount using dynamic programming.\n",
        "    This function solves the coin change problem by determining the fewest number of coins from\n",
        "    a given set of coin denominations that sum up to a target amount. The solution uses dynamic\n",
        "    programming (tabulation) to iteratively build up the minimum number of coins required for each amount.\n",
        "\n",
        "    Parameters:\n",
        "    coins (list of int): A list of coin denominations available for making change.\n",
        "                         Each coin denomination is a positive integer.\n",
        "    amount (int): The target amount for which we need to find the minimum number of coins.\n",
        "                  It must be a non-negative integer.\n",
        "\n",
        "    Returns:\n",
        "    int: The minimum number of coins required to make the given amount.\n",
        "         If it is not possible to make the amount with the given coins, returns -1.\n",
        "\n",
        "    Example:\n",
        "    >>> min_coins([1, 2, 5], 11)\n",
        "    3\n",
        "    >>> min_coins([2], 3)\n",
        "    -1\n",
        "    \"\"\"\n",
        "    # Initialize the DP table\n",
        "    dp = [float('inf')] * (amount + 1)\n",
        "    dp[0] = 0  # Base case: 0 coins are needed to make the amount 0\n",
        "\n",
        "    # Fill the DP table\n",
        "    for coin in coins:\n",
        "        for i in range(coin, amount + 1):\n",
        "            dp[i] = min(dp[i], dp[i - coin] + 1)\n",
        "\n",
        "    # Return the result for the target amount\n",
        "    return dp[amount] if dp[amount] != float('inf') else -1\n",
        "min_coins([1, 2, 5], 11)"
      ],
      "metadata": {
        "id": "4Rn3pPFG3VgZ",
        "colab": {
          "base_uri": "https://localhost:8080/"
        },
        "outputId": "5c9dec42-634c-4a5b-e868-f263560fcb03"
      },
      "execution_count": 2,
      "outputs": [
        {
          "output_type": "execute_result",
          "data": {
            "text/plain": [
              "3"
            ]
          },
          "metadata": {},
          "execution_count": 2
        }
      ]
    },
    {
      "cell_type": "code",
      "source": [
        "def longest_common_subsequence(s1, s2):\n",
        "    \"\"\"\n",
        "    Finds the length of the longest common subsequence (LCS) between two strings using dynamic programming.\n",
        "\n",
        "    Parameters:\n",
        "    s1 (str): The first string.\n",
        "    s2 (str): The second string.\n",
        "\n",
        "    Returns:\n",
        "    int: The length of the LCS between s1 and s2.\n",
        "\n",
        "    Example:\n",
        "    >>> longest_common_subsequence(\"abcde\", \"ace\")\n",
        "    3\n",
        "    >>> longest_common_subsequence(\"abc\", \"def\")\n",
        "    0\n",
        "    \"\"\"\n",
        "    # Lengths of the input strings\n",
        "    m, n = len(s1), len(s2)\n",
        "\n",
        "    # Initialize a DP table with dimensions (m+1) x (n+1)\n",
        "    dp = [[0] * (n + 1) for _ in range(m + 1)]\n",
        "\n",
        "    # Fill the DP table\n",
        "    for i in range(1, m + 1):\n",
        "        for j in range(1, n + 1):\n",
        "            if s1[i - 1] == s2[j - 1]:  # If characters match, add 1 to the result\n",
        "                dp[i][j] = dp[i - 1][j - 1] + 1\n",
        "            else:  # Otherwise, take the maximum from previous results\n",
        "                dp[i][j] = max(dp[i - 1][j], dp[i][j - 1])\n",
        "\n",
        "    # The length of LCS is stored in dp[m][n]\n",
        "    return dp[m][n]\n",
        "\n",
        "# Test cases\n",
        "s1 = \"abcde\"\n",
        "s2 = \"ace\"\n",
        "print(f\"LCS length between '{s1}' and '{s2}': {longest_common_subsequence(s1, s2)}\")\n",
        "\n",
        "s1 = \"abc\"\n",
        "s2 = \"def\"\n",
        "print(f\"LCS length between '{s1}' and '{s2}': {longest_common_subsequence(s1, s2)}\")"
      ],
      "metadata": {
        "colab": {
          "base_uri": "https://localhost:8080/"
        },
        "id": "UNUeWRGqMdKt",
        "outputId": "e4732cfc-eb7c-4768-e126-62225eab0824"
      },
      "execution_count": 3,
      "outputs": [
        {
          "output_type": "stream",
          "name": "stdout",
          "text": [
            "LCS length between 'abcde' and 'ace': 3\n",
            "LCS length between 'abc' and 'def': 0\n"
          ]
        }
      ]
    },
    {
      "cell_type": "code",
      "source": [
        "def knapsack(weights, values, capacity):\n",
        "    \"\"\"\n",
        "    Solves the 0/1 Knapsack problem using dynamic programming to maximize the total value\n",
        "    within a given weight capacity.\n",
        "\n",
        "    Parameters:\n",
        "    weights (list of int): The weights of the items.\n",
        "    values (list of int): The values of the items.\n",
        "    capacity (int): The maximum weight capacity of the knapsack.\n",
        "\n",
        "    Returns:\n",
        "    int: The maximum value that can be achieved without exceeding the weight capacity.\n",
        "\n",
        "    Example:\n",
        "    >>> knapsack([1, 3, 4, 5], [1, 4, 5, 7], 7)\n",
        "    9\n",
        "    \"\"\"\n",
        "    n = len(weights)  # Number of items\n",
        "\n",
        "    # Initialize DP table with dimensions (n+1) x (capacity+1)\n",
        "    dp = [[0] * (capacity + 1) for _ in range(n + 1)]\n",
        "\n",
        "    # Build the DP table\n",
        "    for i in range(1, n + 1):\n",
        "        for w in range(1, capacity + 1):\n",
        "            if weights[i - 1] <= w:\n",
        "                # Include the item or exclude it, choose the better value\n",
        "                dp[i][w] = max(dp[i - 1][w], values[i - 1] + dp[i - 1][w - weights[i - 1]])\n",
        "            else:\n",
        "                # Exclude the item\n",
        "                dp[i][w] = dp[i - 1][w]\n",
        "\n",
        "    # The maximum value is in the bottom-right corner of the DP table\n",
        "    return dp[n][capacity]\n",
        "\n",
        "# Test case\n",
        "weights = [1, 3, 4, 5]\n",
        "values = [1, 4, 5, 7]\n",
        "capacity = 7\n",
        "result = knapsack(weights, values, capacity)\n",
        "print(f\"Maximum value for capacity {capacity}: {result}\")"
      ],
      "metadata": {
        "colab": {
          "base_uri": "https://localhost:8080/"
        },
        "id": "sWjH_m-CMhIf",
        "outputId": "8f1ff0be-eae8-419b-d56a-23e55794c673"
      },
      "execution_count": 4,
      "outputs": [
        {
          "output_type": "stream",
          "name": "stdout",
          "text": [
            "Maximum value for capacity 7: 9\n"
          ]
        }
      ]
    }
  ]
}