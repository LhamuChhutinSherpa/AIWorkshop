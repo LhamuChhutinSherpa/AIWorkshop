{
  "nbformat": 4,
  "nbformat_minor": 0,
  "metadata": {
    "colab": {
      "provenance": []
    },
    "kernelspec": {
      "name": "python3",
      "display_name": "Python 3"
    },
    "language_info": {
      "name": "python"
    }
  },
  "cells": [
    {
      "cell_type": "code",
      "execution_count": null,
      "metadata": {
        "colab": {
          "base_uri": "https://localhost:8080/"
        },
        "id": "FQMZ-BH-7vrH",
        "outputId": "24582cfc-1a74-466d-e818-8bbba55bbd26"
      },
      "outputs": [
        {
          "output_type": "stream",
          "name": "stdout",
          "text": [
            "[0, 1, 2, 3, 4, 5, 6, 7, 8, 9]\n",
            "[2 3 4]\n"
          ]
        }
      ],
      "source": [
        "a = [i for i in range(10)]  # Create a list of integers from 0 to 9\n",
        "print(a)\n",
        "\n",
        "import numpy as np  # Import the NumPy library\n",
        "\n",
        "# Creating NumPy arrays:\n",
        "# np.array: Converts a list or tuple into a NumPy array\n",
        "# np.zeros: Creates an array filled with zeros\n",
        "# np.ones: Creates an array filled with ones\n",
        "# np.linspace(start, stop, num): Creates an array with evenly spaced numbers between start and stop\n",
        "\n",
        "# Properties of NumPy arrays:\n",
        "# arr.shape: Returns the shape (dimensions) of the array\n",
        "# arr.size: Returns the total number of elements in the array\n",
        "# arr.ndim: Returns the number of dimensions of the array\n",
        "\n",
        "# Accessing array elements:\n",
        "# Use square brackets to index elements: e.g., A[1] for the second element\n",
        "# Slicing arrays: e.g., A[1:5] gets elements from index 1 to 4 (not including 5)\n",
        "# Advanced slicing:\n",
        "#    - A[::]: Gets all elements\n",
        "#    - A[::-1]: Reverses the array\n",
        "# For multidimensional arrays:\n",
        "#    - A[row, column]: Access specific elements\n",
        "#    - A[:5, 5:]: Slices rows and columns\n",
        "\n",
        "# Reshaping arrays:\n",
        "# arr.reshape(new_shape): Reshapes the array into the specified shape\n",
        "\n",
        "# Matrix operations:\n",
        "# np.dot(A, B): Performs dot product of two arrays\n",
        "# A @ B: Another way to perform matrix multiplication\n",
        "# np.matmul(A, B): Multiplies matrices (does not handle 1D vectors the same as dot product)\n",
        "\n",
        "# Example usage:\n",
        "a = np.array((1, 2, 3))  # Create a 1D NumPy array\n",
        "b = np.array((1))        # Create a scalar array\n",
        "print(a + b)             # Adds scalar b to each element of array a\n"
      ]
    },
    {
      "cell_type": "markdown",
      "source": [
        "4.1 Problem - 1:\n",
        " Array Creation:"
      ],
      "metadata": {
        "id": "srrgO25U8HTW"
      }
    },
    {
      "cell_type": "code",
      "source": [
        "import numpy as np\n",
        "\n",
        "a=np.empty((2,2))#Initialize an empty array with size 2X2.\n",
        "print(\"Empty_array:\",\"\\n\",a)\n",
        "\n",
        "one_array=np.ones((4,2))#one array with size 4X2\n",
        "print(\"Ones array: \",\"\\n\", one_array)\n",
        "print(\"Np.full: \",np.full(4,2))\n",
        "#The first argument should be an array-like object\n",
        "print(\"Zeros_like: \",\"\\n\",np.zeros_like(a))  # Use 'a' as a template to create a zeros array\n",
        "print(\"Ones_like: \",\"\\n\",np.ones_like(one_array)) # Use 'one_array' as a template to create a ones array\n",
        "new_list=[1,2,3,4]#converting to a numpy array\n",
        "print(\"Np.array:\",np.array(new_list))"
      ],
      "metadata": {
        "colab": {
          "base_uri": "https://localhost:8080/"
        },
        "id": "0C_omkMl8CHP",
        "outputId": "afa34302-a5ce-46a2-fb0b-f6e3a604dee5"
      },
      "execution_count": null,
      "outputs": [
        {
          "output_type": "stream",
          "name": "stdout",
          "text": [
            "Empty_array: \n",
            " [[4.91100909e-310 0.00000000e+000]\n",
            " [0.00000000e+000 0.00000000e+000]]\n",
            "Ones array:  \n",
            " [[1. 1.]\n",
            " [1. 1.]\n",
            " [1. 1.]\n",
            " [1. 1.]]\n",
            "Np.full:  [2 2 2 2]\n",
            "Zeros_like:  \n",
            " [[0. 0.]\n",
            " [0. 0.]]\n",
            "Ones_like:  \n",
            " [[1. 1.]\n",
            " [1. 1.]\n",
            " [1. 1.]\n",
            " [1. 1.]]\n",
            "Np.array: [1 2 3 4]\n"
          ]
        }
      ]
    },
    {
      "cell_type": "markdown",
      "source": [
        "Problem - 2: Array Manipulation: Numerical Ranges and Array indexing:"
      ],
      "metadata": {
        "id": "Fg9em3Rg1mlL"
      }
    },
    {
      "cell_type": "code",
      "source": [
        "import numpy as np\n",
        "\n",
        "print(\"Ranging from 10 to 49: \",\"\\n\",np.arange(10,49))# array ranging from 10 to 49\n",
        "\n",
        "array=np.array([[0,1,2],[3,4,5],[6,7,8]])\n",
        "reshaped_array=array.reshape(9,1)\n",
        "print(\"Reshaped_array: \\n\",reshaped_array)\n",
        "\n",
        "a=np.eye(3,3)\n",
        "print(\"Identity matrix: \\n\", a)\n",
        "\n",
        "random_array=np.random.random(30)\n",
        "print(\"Random_array: \\n\",random_array)\n",
        "mean_value=random_array.mean()\n",
        "print(\"MeanValue: \\n\", mean_value)\n",
        "\n",
        "mini_max=np.random.rand(10,10)\n",
        "print(\"Minimum: \\n\",np.min(mini_max))\n",
        "print(\"Maximum: \\n\",np.max(mini_max))\n",
        "\n",
        "#Instead of np.zeros_like, use np.zeros to specify the size\n",
        "zero_size=np.zeros(10) #Creating a 1-D array of 10 zeros\n",
        "#If you need a 2x2 array: zero_size = np.zeros((2, 2))\n",
        "#If you need a multi-dimensional array you should specify the dimensions as a tuple.\n",
        "\n",
        "\n",
        "remove_element = np.zeros(10)\n",
        "remove_element[4]=1\n",
        "print(\"Removing 5th element: \", remove_element)\n",
        "\n",
        "arr=[1,2,0,0,4,0]\n",
        "print(\"ReversedArray: \\n\",arr[::-1])#it prints the reverse\n",
        "print(\"OrginalArray: \\n\",arr[::])#it prints the orginal\n",
        "\n",
        "# Define the dimensions of the array\n",
        "rows = 5\n",
        "cols = 6\n",
        "\n",
        "# Create an array filled with 1s\n",
        "bordered_array = np.ones((rows, cols))\n",
        "\n",
        "# Set the inner elements to 0 using slicing\n",
        "bordered_array[1:-1, 1:-1] = 0\n",
        "\n",
        "# Print the resulting array\n",
        "print(\"BoarderedArray: \\n\",bordered_array)\n",
        "\n",
        "# Create an 8x8 matrix with a checkerboard pattern\n",
        "checkerboard = np.zeros((8, 8), dtype=int)\n",
        "checkerboard[1::2, ::2] = 1  # Fill odd rows with 1s at even columns\n",
        "checkerboard[::2, 1::2] = 1  # Fill even rows with 1s at odd columns\n",
        "\n",
        "print(\"Checkerboard Pattern:\")\n",
        "print(checkerboard)"
      ],
      "metadata": {
        "colab": {
          "base_uri": "https://localhost:8080/"
        },
        "id": "S_QZ8A1j1p13",
        "outputId": "5504bdc7-9277-4536-c6c3-c98c84df1e32"
      },
      "execution_count": 2,
      "outputs": [
        {
          "output_type": "stream",
          "name": "stdout",
          "text": [
            "Ranging from 10 to 49:  \n",
            " [10 11 12 13 14 15 16 17 18 19 20 21 22 23 24 25 26 27 28 29 30 31 32 33\n",
            " 34 35 36 37 38 39 40 41 42 43 44 45 46 47 48]\n",
            "Reshaped_array: \n",
            " [[0]\n",
            " [1]\n",
            " [2]\n",
            " [3]\n",
            " [4]\n",
            " [5]\n",
            " [6]\n",
            " [7]\n",
            " [8]]\n",
            "Identity matrix: \n",
            " [[1. 0. 0.]\n",
            " [0. 1. 0.]\n",
            " [0. 0. 1.]]\n",
            "Random_array: \n",
            " [0.52041335 0.22900854 0.56449476 0.62902148 0.26270469 0.54248543\n",
            " 0.6827356  0.48256777 0.90762659 0.45200838 0.92692584 0.60407586\n",
            " 0.10716392 0.95835628 0.10117872 0.87905761 0.77733955 0.98785077\n",
            " 0.01054664 0.0103756  0.26748312 0.47338762 0.79308162 0.84264426\n",
            " 0.54070995 0.92291915 0.22435766 0.77417873 0.99859704 0.36429305]\n",
            "MeanValue: \n",
            " 0.5612529858150827\n",
            "Minimum: \n",
            " 0.02193840117281831\n",
            "Maximum: \n",
            " 0.9963032955298572\n",
            "Removing 5th element:  [0. 0. 0. 0. 1. 0. 0. 0. 0. 0.]\n",
            "ReversedArray: \n",
            " [0, 4, 0, 0, 2, 1]\n",
            "OrginalArray: \n",
            " [1, 2, 0, 0, 4, 0]\n",
            "BoarderedArray: \n",
            " [[1. 1. 1. 1. 1. 1.]\n",
            " [1. 0. 0. 0. 0. 1.]\n",
            " [1. 0. 0. 0. 0. 1.]\n",
            " [1. 0. 0. 0. 0. 1.]\n",
            " [1. 1. 1. 1. 1. 1.]]\n",
            "Checkerboard Pattern:\n",
            "[[0 1 0 1 0 1 0 1]\n",
            " [1 0 1 0 1 0 1 0]\n",
            " [0 1 0 1 0 1 0 1]\n",
            " [1 0 1 0 1 0 1 0]\n",
            " [0 1 0 1 0 1 0 1]\n",
            " [1 0 1 0 1 0 1 0]\n",
            " [0 1 0 1 0 1 0 1]\n",
            " [1 0 1 0 1 0 1 0]]\n"
          ]
        }
      ]
    },
    {
      "cell_type": "markdown",
      "source": [
        "Problem - 3: Array Operations:"
      ],
      "metadata": {
        "id": "glkNnNKu3H9e"
      }
    },
    {
      "cell_type": "code",
      "source": [
        "import numpy as np\n",
        "\n",
        "x = np.array([[1,2],[3,5]])\n",
        "y = np.array([[5,6],[7,8]]);\n",
        "v = np.array([9,10])\n",
        "w = np.array([11,12]);\n",
        "add=np.add(x,y)\n",
        "print(\"Addition: \\n\",add)\n",
        "sub=np.subtract(x,y)\n",
        "print(\"Subtraction: \\n\",sub)\n",
        "square=np.square(x)#it only takes one argument\n",
        "print(\"Square of x: \\n\", square)\n",
        "square1=np.square(v)\n",
        "print(\"Square of v: \\n\",square1)\n",
        "product1=np.dot(v,w)\n",
        "print(\"Dot product of v and w: \\n\",product1)\n",
        "product2=np.dot(x,y)\n",
        "print(\"Dot product of x and y: \\n\",product2)\n",
        "concatenate=np.concatenate((x,y))\n",
        "print(\"Concatenation: \\n\",concatenate)\n",
        "concatenate1=np.vstack((v,w))#it prints in a vertical line\n",
        "print(\"Vertical_stacking: \\n\",concatenate1)\n",
        "# concatenate2=np.concatenate((x,v))\n",
        "# print(\"Concatenation: \\n\",concatenate2)\n",
        "#ValueError: all the input arrays must have same number of dimensions, but the array at index 0 has\n",
        "# 2 dimension(s) and the array at index 1 has 1 dimension(s)\n",
        "\n",
        "\n"
      ],
      "metadata": {
        "colab": {
          "base_uri": "https://localhost:8080/"
        },
        "id": "QFH4a0yq3KIS",
        "outputId": "c558089f-80ea-4fd6-b147-3d4bcb45ab15"
      },
      "execution_count": 4,
      "outputs": [
        {
          "output_type": "stream",
          "name": "stdout",
          "text": [
            "Addition: \n",
            " [[ 6  8]\n",
            " [10 13]]\n",
            "Subtraction: \n",
            " [[-4 -4]\n",
            " [-4 -3]]\n",
            "Square of x: \n",
            " [[ 1  4]\n",
            " [ 9 25]]\n",
            "Square of v: \n",
            " [ 81 100]\n",
            "Dot product of v and w: \n",
            " 219\n",
            "Dot product of x and y: \n",
            " [[19 22]\n",
            " [50 58]]\n",
            "Concatenation: \n",
            " [[1 2]\n",
            " [3 5]\n",
            " [5 6]\n",
            " [7 8]]\n",
            "Vertical_stacking: \n",
            " [[ 9 10]\n",
            " [11 12]]\n"
          ]
        }
      ]
    },
    {
      "cell_type": "markdown",
      "source": [
        "Problem - 4: Matrix Operations:"
      ],
      "metadata": {
        "id": "a_22cbnb8A_D"
      }
    },
    {
      "cell_type": "code",
      "source": [
        "import numpy as np\n",
        "\n",
        "A = np.array([[3,4],[7,8]])\n",
        "B = np.array([[5,3],[2,1]])\n",
        "inverse=np.linalg.inv(A)#calculate the inverse of mtrix A\n",
        "# print(\"Inverse of A: \\n\",inverse)\n",
        "dotproduct=np.dot(A,inverse)\n",
        "print(dotproduct)\n",
        "\n",
        "c=np.dot(A,B)\n",
        "print(\"AB: \\n\",c)\n",
        "d=np.dot(B,A)\n",
        "print(\"BA: \\n\",d)\n",
        "print(\"Hence AB doesnt equal BA\")\n",
        "\n",
        "e=np.dot(A,B)\n",
        "transpose1=np.transpose((e))\n",
        "print(\"(AB)^t: \\n\",transpose1)\n",
        "\n",
        "transpose2=np.transpose((A))\n",
        "transpose3=np.transpose((B))\n",
        "f=np.dot(transpose3,transpose2)\n",
        "print(\"B^t.A^t: \\n\", f)\n",
        "print(\"Hence prove (AB)^t = B^tA^t.\")"
      ],
      "metadata": {
        "colab": {
          "base_uri": "https://localhost:8080/"
        },
        "id": "3jOxfH9C8DJd",
        "outputId": "6f063a7d-59db-401f-8280-2ce171bd7baa"
      },
      "execution_count": 5,
      "outputs": [
        {
          "output_type": "stream",
          "name": "stdout",
          "text": [
            "[[1.00000000e+00 0.00000000e+00]\n",
            " [1.77635684e-15 1.00000000e+00]]\n",
            "AB: \n",
            " [[23 13]\n",
            " [51 29]]\n",
            "BA: \n",
            " [[36 44]\n",
            " [13 16]]\n",
            "Hence AB doesnt equal BA\n",
            "(AB)^t: \n",
            " [[23 51]\n",
            " [13 29]]\n",
            "B^t.A^t: \n",
            " [[23 51]\n",
            " [13 29]]\n",
            "Hence prove (AB)^t = B^tA^t.\n"
          ]
        }
      ]
    },
    {
      "cell_type": "markdown",
      "source": [
        "Solve the following system of Linear equation using Inverse Methods.\n",
        "\n",
        "2x − 3y + z = −1 x − y + 2z = −3 3x + y − z = 9"
      ],
      "metadata": {
        "id": "1iciy79HVwlI"
      }
    },
    {
      "cell_type": "code",
      "source": [
        "a=np.array([[2,-3,1],[1,-1,2],[3,1,-1]])\n",
        "b=np.array([-1,-3,9])\n",
        "A=np.linalg.inv(a)\n",
        "B=np.linalg.solve(A,b)\n",
        "# Define x, y, and z as numpy arrays or lists before assigning values to their elements.\n",
        "x = np.zeros(1)  # Initialize x as a NumPy array with 3 elements, all initialized to 0\n",
        "y = np.zeros(2)  # Initialize y as a NumPy array with 3 elements, all initialized to 0\n",
        "z = np.zeros(3)  # Initialize z as a NumPy array with 3 elements, all initialized to 0\n",
        "# Now you can assign values to the elements of x, y, and z\n",
        "x[0] = B[0]\n",
        "y[1] = B[1]\n",
        "z[2] = B[2]\n",
        "print(x,y,z)"
      ],
      "metadata": {
        "colab": {
          "base_uri": "https://localhost:8080/"
        },
        "id": "XarD_0p7VzJV",
        "outputId": "fc4775b0-157a-4573-e559-45468b5553e0"
      },
      "execution_count": 11,
      "outputs": [
        {
          "output_type": "stream",
          "name": "stdout",
          "text": [
            "[16.] [ 0. 20.] [  0.   0. -15.]\n"
          ]
        }
      ]
    },
    {
      "cell_type": "code",
      "source": [
        "# 4.2 Experiment: How Fast is Numpy?\n",
        "# In this exercise, you will compare the performance and implementation of operations using plain Python lists (arrays) and NumPy arrays.\n",
        "#Follow the instructions:\n",
        "\n",
        "import time\n",
        "\n",
        "import numpy as np\n",
        "\n",
        "# 1. Element-wise Addition:\n",
        "print(\"1. Element-wise Addition\")\n",
        "\n",
        "# Using Python Lists, perform element-wise addition of two lists of size 1, 000, 000. Measure and Print the time taken for this operation.\n",
        "list1 = [i for i in range(1_000_000)]\n",
        "list2 = [i for i in range(1_000_000)]\n",
        "\n",
        "start_time = time.time()\n",
        "result_list = [list1[i] + list2[i] for i in range(len(list1))]\n",
        "end_time = time.time()\n",
        "print(f\"Time taken by Python Lists: {end_time - start_time:.5f} seconds\")\n",
        "\n",
        "# Using Numpy Arrays, Repeat the calculation and measure and print the time taken for this operation.\n",
        "array1 = np.array(list1)\n",
        "array2 = np.array(list2)\n",
        "\n",
        "start_time = time.time()\n",
        "result_array = array1 + array2\n",
        "end_time = time.time()\n",
        "print(f\"Time taken by numpy: {end_time - start_time:.5f} seconds\\n\")"
      ],
      "metadata": {
        "colab": {
          "base_uri": "https://localhost:8080/"
        },
        "id": "lf3shNpCV3Rp",
        "outputId": "9ca42a19-a223-40f9-f354-c214c65019a7"
      },
      "execution_count": 7,
      "outputs": [
        {
          "output_type": "stream",
          "name": "stdout",
          "text": [
            "1. Element-wise Addition\n",
            "Time taken by Python Lists: 0.21753 seconds\n",
            "Time taken by numpy: 0.00470 seconds\n",
            "\n"
          ]
        }
      ]
    },
    {
      "cell_type": "code",
      "source": [
        "# 2. Element-wise Multiplication\n",
        "print(\"2. Element-wise Multiplication\")\n",
        "\n",
        "# Using Python Lists, perform element-wise multiplication of two lists of size 1, 000, 000. Measure and Print the time taken for this operation.\n",
        "start_time = time.time()\n",
        "result_list = [list1[i] * list2[i] for i in range(len(list1))]\n",
        "end_time = time.time()\n",
        "print(f\"Time taken by Python Lists: {end_time - start_time:.5f} seconds\")\n",
        "\n",
        "# Using Numpy Arrays, Repeat the calculation and measure and print the time taken for this operation.\n",
        "start_time = time.time()\n",
        "result_array = array1 * array2\n",
        "end_time = time.time()\n",
        "print(f\"Time taken by numpy: {end_time - start_time:.5f} seconds\\n\")"
      ],
      "metadata": {
        "colab": {
          "base_uri": "https://localhost:8080/"
        },
        "id": "kC0MuPc-V8h6",
        "outputId": "5498ef46-803c-4fbe-fae7-afe71d175ffc"
      },
      "execution_count": 8,
      "outputs": [
        {
          "output_type": "stream",
          "name": "stdout",
          "text": [
            "2. Element-wise Multiplication\n",
            "Time taken by Python Lists: 0.15989 seconds\n",
            "Time taken by numpy: 0.00547 seconds\n",
            "\n"
          ]
        }
      ]
    },
    {
      "cell_type": "code",
      "source": [
        "# 3. Dot Product\n",
        "print(\"3. Dot Product\")\n",
        "\n",
        "# Using Python Lists, compute the dot product of two lists of size 1, 000, 000. Measure and Print the time taken for this operation.\n",
        "start_time = time.time()\n",
        "dot_product_list = sum(list1[i] * list2[i] for i in range(len(list1)))\n",
        "end_time = time.time()\n",
        "print(f\"Time taken by Python Lists: {end_time - start_time:.5f} seconds\")\n",
        "\n",
        "# Using Numpy Arrays, Repeat the calculation and measure and print the time taken for this operation.\n",
        "start_time = time.time()\n",
        "dot_product_array = np.dot(array1, array2)\n",
        "end_time = time.time()\n",
        "print(f\"Time taken by numpy: {end_time - start_time:.5f} seconds\\n\")"
      ],
      "metadata": {
        "colab": {
          "base_uri": "https://localhost:8080/"
        },
        "id": "ccgg24abV_9G",
        "outputId": "248b9f8e-d13f-402c-f840-3f59d83a8219"
      },
      "execution_count": 9,
      "outputs": [
        {
          "output_type": "stream",
          "name": "stdout",
          "text": [
            "3. Dot Product\n",
            "Time taken by Python Lists: 0.15232 seconds\n",
            "Time taken by numpy: 0.00216 seconds\n",
            "\n"
          ]
        }
      ]
    },
    {
      "cell_type": "code",
      "source": [
        "# 4. Matrix Multiplication\n",
        "print(\"4. Matrix Multiplication\")\n",
        "size = 100\n",
        "\n",
        "# Using Python lists, perform matrix multiplication of two matrices of size 1000x1000. Measure and print the time taken for this operation.\n",
        "matrix1 = [[i for i in range(size)] for _ in range(size)]\n",
        "matrix2 = [[j for j in range(size)] for _ in range(size)]\n",
        "\n",
        "start_time = time.time()\n",
        "result_matrix = [[sum(a * b for a, b in zip(row, col)) for col in zip(*matrix2)] for row in matrix1]\n",
        "end_time = time.time()\n",
        "print(f\"Time taken by Python Lists: {end_time - start_time:.5f} seconds\")\n",
        "\n",
        "# Using NumPy arrays, perform matrix multiplication of two matrices of size 1000x1000. Measure and print the time taken for this operation.\n",
        "matrix1_np = np.array(matrix1)\n",
        "matrix2_np = np.array(matrix2)\n",
        "\n",
        "start_time = time.time()\n",
        "result_matrix_np = np.dot(matrix1_np, matrix2_np)\n",
        "end_time = time.time()\n",
        "print(f\"Time taken by numpy: {end_time - start_time:.5f} seconds\")"
      ],
      "metadata": {
        "colab": {
          "base_uri": "https://localhost:8080/"
        },
        "id": "bNeLXOw6WDgC",
        "outputId": "4b6af53d-c4ac-4e52-ada0-5595d6b0d863"
      },
      "execution_count": 10,
      "outputs": [
        {
          "output_type": "stream",
          "name": "stdout",
          "text": [
            "4. Matrix Multiplication\n",
            "Time taken by Python Lists: 0.11885 seconds\n",
            "Time taken by numpy: 0.00136 seconds\n"
          ]
        }
      ]
    }
  ]
}